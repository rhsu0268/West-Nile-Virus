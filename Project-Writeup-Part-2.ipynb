{
 "cells": [
  {
   "cell_type": "markdown",
   "metadata": {},
   "source": [
    " # Project Design WriteUp "
   ]
  },
  {
   "cell_type": "markdown",
   "metadata": {},
   "source": [
    "Richard Hsu 7-8-16"
   ]
  },
  {
   "cell_type": "markdown",
   "metadata": {},
   "source": [
    "## Project Problem and Hypothesis "
   ]
  },
  {
   "cell_type": "markdown",
   "metadata": {},
   "source": [
    "### What's the project about? What problem are you solving?"
   ]
  },
  {
   "cell_type": "markdown",
   "metadata": {},
   "source": [
    "One of the biggest issues that we face in our society from time to time is the development of human diseases like ebola, swine flu, or Zika. \n",
    "\n",
    "\n",
    "A few years ago, the West Nile Virus made its way to the US and about 20% of people who become infected develop symptoms that range from a persistent fever to a growing neurological illness that could potentially result in death. In 2002, cases of the West Nile Virus was reported in Chicago and since then, the Chicago Department of Public Health (CDPH) has worked to establish a survillence system in order ot better study and control the spread of the virus. \n",
    "\n",
    "\n",
    "My goal in this project is to predict when and where different species of mosquitos will most likely test positive for the West Nile Virus based on weather, spraying, and mosquito location data. This project will provide a model that will better predict when and where a West Nile Virus outbreak will most likely happen and also allow the city of Chciago and CDPH to better tackle this deadly virus by bringing enough resources to the right place at the right time. "
   ]
  },
  {
   "cell_type": "markdown",
   "metadata": {},
   "source": [
    "### Where does this seem to reside as a machine learning problem? Are you predicting some continuous number, or predicting a binary value?"
   ]
  },
  {
   "cell_type": "markdown",
   "metadata": {},
   "source": [
    "This is a machine learning problem because there will be one set of data that will be used to train the model. In particular, one set of data will include he location of these infected mosquitos as well as number in a given area. This data will in turn be used to give the model some information before it can be applied on a test data set. \n",
    "\n",
    "In this case, a continuous number is being predicted (the probability of a mosquito will test positive for West Nile Virus)."
   ]
  },
  {
   "cell_type": "markdown",
   "metadata": {},
   "source": [
    "### What kind of impact do you think it could have?"
   ]
  },
  {
   "cell_type": "markdown",
   "metadata": {},
   "source": [
    "As mentioned predicting the probability that mosquitos of a given area will carry the virus is insightful because it can serve as a great way to predict outbreaks. This will help the city of Chicago tremendously in allocating resources to combat and fight the virus. "
   ]
  },
  {
   "cell_type": "markdown",
   "metadata": {},
   "source": [
    "### What do you think will have the most impact in predicting the value you are interested in solving for?"
   ]
  },
  {
   "cell_type": "markdown",
   "metadata": {},
   "source": [
    "According to theory, hot and dry conditions are more favorable for West Nile Virus than cold and wet. Therefore, I think weather conditions of a given area will impact the probability the most. However, this is not to say that other factors such as the amount of spraying does not affect that value. "
   ]
  },
  {
   "cell_type": "markdown",
   "metadata": {},
   "source": [
    "## Datasets"
   ]
  },
  {
   "cell_type": "markdown",
   "metadata": {},
   "source": [
    "### Description of data set available, at the field level (see table)"
   ]
  },
  {
   "cell_type": "markdown",
   "metadata": {},
   "source": [
    "Weather data and mosquito location (GIS) data will be used to predict whether or not the West Nile Virus is present for a given time, location, and species. \n",
    "\n",
    "Every year, health works at Chicago establish mosquito traps across the city. From Monday to Wednesday, the traps collect mosquitos, and the mosquitos are tested for the presence of the West Nile Virus. These test results include the number of mosquitos, the mosquito species, and whether or not the West Nile Virus is actually present. \n",
    "\n",
    "Main Dataset\n",
    "\n",
    "- The location of the traps are described by block number and street name. (latitude and longitude coordinates are provided.)\n",
    "- Not all the locations are tested at all times. \n",
    "- Records exist only when a particular spieces of mosquitos is found at a certain trap at a certain time. \n",
    "\n",
    "Spray Data\n",
    "\n",
    "- The City of Chicago does spraying to kill mosquitos. GIS data for spraying is provided for 2011 and 2013. \n",
    "- Spraying can reduce the number of mosquitos in the area, and therefore might eliminate the appearance of the West Nile Virus. \n",
    "\n",
    "Weather Data\n",
    "\n",
    "- Hot and dry cnditions are more favorable for West Nile Virus than cold and wet. \n",
    "- Dataset from NOAA is provided from 2007 to 2015. \n",
    "\n"
   ]
  },
  {
   "cell_type": "markdown",
   "metadata": {},
   "source": [
    "### If from an API, include a sample return (this is usually included in API documentation!) (if doing this in markdown, use the javacription code tag)"
   ]
  },
  {
   "cell_type": "code",
   "execution_count": 2,
   "metadata": {
    "collapsed": false
   },
   "outputs": [
    {
     "data": {
      "text/html": [
       "<div>\n",
       "<table border=\"1\" class=\"dataframe\">\n",
       "  <thead>\n",
       "    <tr style=\"text-align: right;\">\n",
       "      <th></th>\n",
       "      <th>Date</th>\n",
       "      <th>Address</th>\n",
       "      <th>Species</th>\n",
       "      <th>Block</th>\n",
       "      <th>Street</th>\n",
       "      <th>Trap</th>\n",
       "      <th>AddressNumberAndStreet</th>\n",
       "      <th>Latitude</th>\n",
       "      <th>Longitude</th>\n",
       "      <th>AddressAccuracy</th>\n",
       "      <th>NumMosquitos</th>\n",
       "      <th>WnvPresent</th>\n",
       "    </tr>\n",
       "  </thead>\n",
       "  <tbody>\n",
       "    <tr>\n",
       "      <th>0</th>\n",
       "      <td>2007-05-29</td>\n",
       "      <td>4100 North Oak Park Avenue, Chicago, IL 60634,...</td>\n",
       "      <td>CULEX PIPIENS/RESTUANS</td>\n",
       "      <td>41</td>\n",
       "      <td>N OAK PARK AVE</td>\n",
       "      <td>T002</td>\n",
       "      <td>4100  N OAK PARK AVE, Chicago, IL</td>\n",
       "      <td>41.954690</td>\n",
       "      <td>-87.800991</td>\n",
       "      <td>9</td>\n",
       "      <td>1</td>\n",
       "      <td>0</td>\n",
       "    </tr>\n",
       "    <tr>\n",
       "      <th>1</th>\n",
       "      <td>2007-05-29</td>\n",
       "      <td>4100 North Oak Park Avenue, Chicago, IL 60634,...</td>\n",
       "      <td>CULEX RESTUANS</td>\n",
       "      <td>41</td>\n",
       "      <td>N OAK PARK AVE</td>\n",
       "      <td>T002</td>\n",
       "      <td>4100  N OAK PARK AVE, Chicago, IL</td>\n",
       "      <td>41.954690</td>\n",
       "      <td>-87.800991</td>\n",
       "      <td>9</td>\n",
       "      <td>1</td>\n",
       "      <td>0</td>\n",
       "    </tr>\n",
       "    <tr>\n",
       "      <th>2</th>\n",
       "      <td>2007-05-29</td>\n",
       "      <td>6200 North Mandell Avenue, Chicago, IL 60646, USA</td>\n",
       "      <td>CULEX RESTUANS</td>\n",
       "      <td>62</td>\n",
       "      <td>N MANDELL AVE</td>\n",
       "      <td>T007</td>\n",
       "      <td>6200  N MANDELL AVE, Chicago, IL</td>\n",
       "      <td>41.994991</td>\n",
       "      <td>-87.769279</td>\n",
       "      <td>9</td>\n",
       "      <td>1</td>\n",
       "      <td>0</td>\n",
       "    </tr>\n",
       "    <tr>\n",
       "      <th>3</th>\n",
       "      <td>2007-05-29</td>\n",
       "      <td>7900 West Foster Avenue, Chicago, IL 60656, USA</td>\n",
       "      <td>CULEX PIPIENS/RESTUANS</td>\n",
       "      <td>79</td>\n",
       "      <td>W FOSTER AVE</td>\n",
       "      <td>T015</td>\n",
       "      <td>7900  W FOSTER AVE, Chicago, IL</td>\n",
       "      <td>41.974089</td>\n",
       "      <td>-87.824812</td>\n",
       "      <td>8</td>\n",
       "      <td>1</td>\n",
       "      <td>0</td>\n",
       "    </tr>\n",
       "    <tr>\n",
       "      <th>4</th>\n",
       "      <td>2007-05-29</td>\n",
       "      <td>7900 West Foster Avenue, Chicago, IL 60656, USA</td>\n",
       "      <td>CULEX RESTUANS</td>\n",
       "      <td>79</td>\n",
       "      <td>W FOSTER AVE</td>\n",
       "      <td>T015</td>\n",
       "      <td>7900  W FOSTER AVE, Chicago, IL</td>\n",
       "      <td>41.974089</td>\n",
       "      <td>-87.824812</td>\n",
       "      <td>8</td>\n",
       "      <td>4</td>\n",
       "      <td>0</td>\n",
       "    </tr>\n",
       "  </tbody>\n",
       "</table>\n",
       "</div>"
      ],
      "text/plain": [
       "         Date                                            Address  \\\n",
       "0  2007-05-29  4100 North Oak Park Avenue, Chicago, IL 60634,...   \n",
       "1  2007-05-29  4100 North Oak Park Avenue, Chicago, IL 60634,...   \n",
       "2  2007-05-29  6200 North Mandell Avenue, Chicago, IL 60646, USA   \n",
       "3  2007-05-29    7900 West Foster Avenue, Chicago, IL 60656, USA   \n",
       "4  2007-05-29    7900 West Foster Avenue, Chicago, IL 60656, USA   \n",
       "\n",
       "                  Species  Block           Street  Trap  \\\n",
       "0  CULEX PIPIENS/RESTUANS     41   N OAK PARK AVE  T002   \n",
       "1          CULEX RESTUANS     41   N OAK PARK AVE  T002   \n",
       "2          CULEX RESTUANS     62    N MANDELL AVE  T007   \n",
       "3  CULEX PIPIENS/RESTUANS     79     W FOSTER AVE  T015   \n",
       "4          CULEX RESTUANS     79     W FOSTER AVE  T015   \n",
       "\n",
       "              AddressNumberAndStreet   Latitude  Longitude  AddressAccuracy  \\\n",
       "0  4100  N OAK PARK AVE, Chicago, IL  41.954690 -87.800991                9   \n",
       "1  4100  N OAK PARK AVE, Chicago, IL  41.954690 -87.800991                9   \n",
       "2   6200  N MANDELL AVE, Chicago, IL  41.994991 -87.769279                9   \n",
       "3    7900  W FOSTER AVE, Chicago, IL  41.974089 -87.824812                8   \n",
       "4    7900  W FOSTER AVE, Chicago, IL  41.974089 -87.824812                8   \n",
       "\n",
       "   NumMosquitos  WnvPresent  \n",
       "0             1           0  \n",
       "1             1           0  \n",
       "2             1           0  \n",
       "3             1           0  \n",
       "4             4           0  "
      ]
     },
     "execution_count": 2,
     "metadata": {},
     "output_type": "execute_result"
    }
   ],
   "source": [
    "import numpy as np\n",
    "import pandas as pd\n",
    "\n",
    "# load training data\n",
    "df = pd.read_csv(\"data/train.csv\")\n",
    "\n",
    "# check head\n",
    "df.head()"
   ]
  },
  {
   "cell_type": "code",
   "execution_count": 4,
   "metadata": {
    "collapsed": false
   },
   "outputs": [
    {
     "data": {
      "text/plain": [
       "array(['Date', 'Address', 'Species', 'Block', 'Street', 'Trap',\n",
       "       'AddressNumberAndStreet', 'Latitude', 'Longitude',\n",
       "       'AddressAccuracy', 'NumMosquitos', 'WnvPresent'], dtype=object)"
      ]
     },
     "execution_count": 4,
     "metadata": {},
     "output_type": "execute_result"
    }
   ],
   "source": [
    "df.columns.values"
   ]
  },
  {
   "cell_type": "markdown",
   "metadata": {},
   "source": [
    "- Date: Date the test was performed\n",
    "- Address: Approximate addresss\n",
    "- Species: The species of the mosquitos\n",
    "- Block: Block number of address\n",
    "- Street: Street name\n",
    "- Trap: Id of the trap\n",
    "- AddressNumberAndStreet: Approximate address returned from Geocoder\n",
    "- Latitude and Longitude: Vlaues returned from Geocoder\n",
    "- AddressAccuracy: Accuracy\n",
    "- NumMosquitos: Number of mosquitos caught in the trap\n",
    "- WnvPresent: Whether or not West Nile Virus is present. (1 or 0)"
   ]
  },
  {
   "cell_type": "markdown",
   "metadata": {},
   "source": [
    "## Domain Knowledge"
   ]
  },
  {
   "cell_type": "markdown",
   "metadata": {},
   "source": [
    "### What experience do you already have around this area?"
   ]
  },
  {
   "cell_type": "markdown",
   "metadata": {},
   "source": [
    "I am deeply interested in public health. When I was an undergraduate student, I wanted to be a doctor. Currently, analyzing disease data and making predictions on where outbreaks of a virus will most likely occur is something that is deeply related to my interest. "
   ]
  },
  {
   "cell_type": "markdown",
   "metadata": {},
   "source": [
    "### Does it relate or help inform the project in any way?"
   ]
  },
  {
   "cell_type": "markdown",
   "metadata": {},
   "source": [
    "Yes, of course. As I mentioned, my deep interest in public health makes this project very exciting to me. "
   ]
  },
  {
   "cell_type": "markdown",
   "metadata": {},
   "source": [
    "### What other research efforts exist?\n",
    "\n",
    "- Use a quick Google search to see what approaches others have made, or talk with your colleagues if it is work related about previous attempts at similar problems.\n",
    "- This could even just be something like \"the marketing team put together a forecast in excel that doesn't do well.\"\n",
    "- Include a benchmark, how other models have performed, even if you are unsure what the metric means.\n"
   ]
  },
  {
   "cell_type": "markdown",
   "metadata": {},
   "source": [
    "Similar work has been done by someone else who entered the Kaggle competition: (http://www.dataiku.com/blog/2015/05/11/first-take-on-the-kaggle-west-nile-virus-competition.html). \n",
    "\n",
    "In it, the scientist describes the process he went through including data cleaning. He used a different tool, something called Data Science Studio (DSS) and built a model using the \"analyze\" function. He mentioned that his model actually optimized AUC or Area Under Curve, a concept we talked about in class. More importantly, he did cross validation, \"feature scaling\"\n",
    "\n",
    "Another scientist did some cool visualizations with the data: \n",
    "(http://blog.kaggle.com/2015/07/14/visualizing-west-nile-virus/).\n",
    "\n",
    "In it, the scientist describes the different curves plotting West Nile Virus Count against the time in weeks. In the article, he talked about how some people were overfitting the data and leading to a model that has little predictive power. \n",
    "\n",
    "Another indiviudal did some nice \"bubble plots\". This person plotted latitude against longitude and found clusters of points where there were aggregates. \n",
    "\n"
   ]
  },
  {
   "cell_type": "markdown",
   "metadata": {},
   "source": [
    "## Project Concerns"
   ]
  },
  {
   "cell_type": "markdown",
   "metadata": {},
   "source": [
    "### What questions do you have about your project? What are you not sure you quite yet understand? (The more honest you are about this, the easier your instructors can help)."
   ]
  },
  {
   "cell_type": "markdown",
   "metadata": {},
   "source": [
    "I am still slightly confused on how to model my data. In particular, originally, I thought it would be a regression problem since I will be prediciting the probability that the virus is present. However, there is also a matter of whether or not the virus is present in that cluster of mosquitos so it could also be classification. Is there a clearcut answer on which one it is?\n",
    "\n",
    "One thing that is really confusing to me is how I will be predicitng the probabilities. \n",
    "\n",
    "One thing that I am a bit preplexed is that the training dataset has two extra columns, then number of mosquitos, and whether or not West Nile Virus is present. \n",
    "\n",
    "Therefore, for the testing dataset, we want to use the training dataset to predict those two columns. Is there a model that I can use to do this? I have weather data and mosquito spraying data. Somehow, I need to be able to work that into the main dataset. How would I do that? Can I develop my way of assigning priorities for probabilitiy?"
   ]
  },
  {
   "cell_type": "markdown",
   "metadata": {},
   "source": [
    "### What are the assumptions and caveats to the problem?\n",
    "- What data do you not have access to but wish you had?\n",
    "- What is already implied about the observations in your data set? For example, if your primary data set is twitter data, it may not be representative of the whole sample (say, predicting who would win an election)"
   ]
  },
  {
   "cell_type": "markdown",
   "metadata": {},
   "source": [
    "I wish also I had the number of cases of West Nile Virus throughout US or maybe just Chicago. In particular, I think that would also contribute to where the West Nile Virus would be prevalent. As we know, travel plays a big role in the transportation of a viral disease and perhaps that data would further strengthen the model or prediction that we make. \n",
    "\n",
    "\n",
    "In terms of observations that were made, the data does have limitations as mentioned in the beginning:\n",
    "\n",
    "1. Not all locations are tested at all times. \n",
    "2. Records exist only for a particular species of mosquitos found in the traps. \n",
    "3. There is incomplete data at times. Data is imperfect. "
   ]
  },
  {
   "cell_type": "markdown",
   "metadata": {},
   "source": [
    "## What are the risks to the project?\n",
    "- What's the cost of your model being wrong? (What's the benefit of your model being right?)\n",
    "- Is any of the data incorrect? Could it be incorrect?"
   ]
  },
  {
   "cell_type": "markdown",
   "metadata": {},
   "source": [
    "The cost of the model being wrong would be detrimental to the Department of Health in Chicago because outbreaks would not be able to be predictied correctly. Moreover, resources for controlling the virus since as mosquito sprays or mosquito control will be wrongly distributed resulting in a large waste of money. \n",
    "\n",
    "Yes, there could be a chance that the data is incorrect because this data needs to be recorded with the analysis of many mosquitos and there's bound to be a mistake somewhere as experts are examining a specimen that is so small. "
   ]
  },
  {
   "cell_type": "markdown",
   "metadata": {},
   "source": [
    "## Outcomes"
   ]
  },
  {
   "cell_type": "markdown",
   "metadata": {},
   "source": [
    "### What do you expect the output to look like?"
   ]
  },
  {
   "cell_type": "markdown",
   "metadata": {},
   "source": [
    "I would expect to see a large number of mosquitos with the disease to be located in places where the weather is hot and dry. Also, less mosquitos will be seen in places where mosquito spraying is in place. "
   ]
  },
  {
   "cell_type": "markdown",
   "metadata": {},
   "source": [
    "## What does your target audience expect the output to look like?"
   ]
  },
  {
   "cell_type": "markdown",
   "metadata": {},
   "source": [
    "Health officials who are in charge of controlling the spread of the virus will want to know two things:\n",
    "    \n",
    "1. Where outbreaks will take place?\n",
    "2. Where should we be implementing mosquito control/virus prevention/preperation?\n",
    "\n",
    "The big question ultimately is where the virus will be in terms of geography on a map. "
   ]
  },
  {
   "cell_type": "markdown",
   "metadata": {},
   "source": [
    "### What gain do you expect from your most important feature on its own?"
   ]
  },
  {
   "cell_type": "markdown",
   "metadata": {},
   "source": [
    "In terms of the most important feature, both weather data and sprayinng data will be important because it can provide some insight on how to determine the probabilitites of the virus. This points us in the right direction to go to rather than to base it on solely the number of infected mosquitos in a location alone.  "
   ]
  },
  {
   "cell_type": "markdown",
   "metadata": {},
   "source": [
    "### How complicated does your model have to be?"
   ]
  },
  {
   "cell_type": "markdown",
   "metadata": {},
   "source": [
    "I really wouldn't think the model needs to be super complicated. In particular, we need a way to determine the number of mosquitos in a given area, whether they are infected or not, and then translating that into a probabilitiy (0 - 1)."
   ]
  },
  {
   "cell_type": "markdown",
   "metadata": {},
   "source": [
    "### How successful does your project have to be in order to be considered a \"success\"?"
   ]
  },
  {
   "cell_type": "markdown",
   "metadata": {},
   "source": [
    "I would say that if we can correctly predict where outbreaks may occur above a certain threshold of accuracy, the project would be successful. In particular, if we can predict with 80 - 90% certainty there will be an outbreak in location A vs. location B, then I think we accomplished the goal. \n",
    "\n",
    "In particular, achieving 100% accuracy is great but I also believe in using the predictive power and not to create a model that overfits the data or one that provides an accuracy of say just about 50% or less. "
   ]
  },
  {
   "cell_type": "markdown",
   "metadata": {},
   "source": [
    "### What will you do if the project is a bust (this happens! but it shouldn't here)?"
   ]
  },
  {
   "cell_type": "markdown",
   "metadata": {},
   "source": [
    "I will probably cry a bit although that really doesn't achieve anything. Then, I'll try to work on something else becuase it's all a learning process! Sometimes, you will have something that works really well. Other times, you are challenged with something that leads to a dead end or something that just won't work. In these cases, it is important to back up, try something new, and never lose sight of the end goal: to develop the skills needed to be a data scientist. "
   ]
  },
  {
   "cell_type": "code",
   "execution_count": null,
   "metadata": {
    "collapsed": true
   },
   "outputs": [],
   "source": []
  }
 ],
 "metadata": {
  "kernelspec": {
   "display_name": "Python 2",
   "language": "python",
   "name": "python2"
  },
  "language_info": {
   "codemirror_mode": {
    "name": "ipython",
    "version": 2
   },
   "file_extension": ".py",
   "mimetype": "text/x-python",
   "name": "python",
   "nbconvert_exporter": "python",
   "pygments_lexer": "ipython2",
   "version": "2.7.11"
  }
 },
 "nbformat": 4,
 "nbformat_minor": 0
}
