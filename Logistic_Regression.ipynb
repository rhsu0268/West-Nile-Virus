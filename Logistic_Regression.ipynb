{
 "cells": [
  {
   "cell_type": "markdown",
   "metadata": {},
   "source": [
    "# Logistic Regression"
   ]
  },
  {
   "cell_type": "code",
   "execution_count": 22,
   "metadata": {
    "collapsed": false
   },
   "outputs": [],
   "source": [
    "import io, os, sys, types\n",
    "from sklearn import cross_validation\n",
    "from sklearn import neighbors\n",
    "from sklearn import grid_search\n",
    "from sklearn import metrics\n",
    "from sklearn import linear_model\n",
    "\n",
    "import numpy as np\n",
    "import pandas as pd\n",
    "\n",
    "import seaborn as sns\n",
    "import matplotlib.pyplot as plt\n",
    "sns.set(style=\"whitegrid\", font_scale=1)\n",
    "%matplotlib inline"
   ]
  },
  {
   "cell_type": "code",
   "execution_count": 23,
   "metadata": {
    "collapsed": true
   },
   "outputs": [],
   "source": [
    "import nbformat\n",
    "\n",
    "from IPython import get_ipython\n",
    "from IPython.core.interactiveshell import InteractiveShell"
   ]
  },
  {
   "cell_type": "code",
   "execution_count": 24,
   "metadata": {
    "collapsed": true
   },
   "outputs": [],
   "source": [
    "def find_notebook(fullname, path=None):\n",
    "    \"\"\"find a notebook, given its fully qualified name and an optional path\n",
    "    \n",
    "    This turns \"foo.bar\" into \"foo/bar.ipynb\"\n",
    "    and tries turning \"Foo_Bar\" into \"Foo Bar\" if Foo_Bar\n",
    "    does not exist.\n",
    "    \"\"\"\n",
    "    name = fullname.rsplit('.', 1)[-1]\n",
    "    if not path:\n",
    "        path = ['']\n",
    "    for d in path:\n",
    "        nb_path = os.path.join(d, name + \".ipynb\")\n",
    "        if os.path.isfile(nb_path):\n",
    "            return nb_path\n",
    "        # let import Notebook_Name find \"Notebook Name.ipynb\"\n",
    "        nb_path = nb_path.replace(\"_\", \" \")\n",
    "        if os.path.isfile(nb_path):\n",
    "            return nb_path"
   ]
  },
  {
   "cell_type": "code",
   "execution_count": 25,
   "metadata": {
    "collapsed": true
   },
   "outputs": [],
   "source": [
    "class NotebookLoader(object):\n",
    "    \"\"\"Module Loader for IPython Notebooks\"\"\"\n",
    "    def __init__(self, path=None):\n",
    "        self.shell = InteractiveShell.instance()\n",
    "        self.path = path\n",
    "    \n",
    "    def load_module(self, fullname):\n",
    "        \"\"\"import a notebook as a module\"\"\"\n",
    "        path = find_notebook(fullname, self.path)\n",
    "        \n",
    "        print (\"importing notebook from %s\" % path)\n",
    "                                       \n",
    "        # load the notebook object\n",
    "        nb = nbformat.read(path, as_version=4)\n",
    "        \n",
    "        \n",
    "        # create the module and add it to sys.modules\n",
    "        # if name in sys.modules:\n",
    "        #    return sys.modules[name]\n",
    "        mod = types.ModuleType(fullname)\n",
    "        mod.__file__ = path\n",
    "        mod.__loader__ = self\n",
    "        mod.__dict__['get_ipython'] = get_ipython\n",
    "        sys.modules[fullname] = mod\n",
    "        \n",
    "        # extra work to ensure that magics that would affect the user_ns\n",
    "        # actually affect the notebook module's ns\n",
    "        save_user_ns = self.shell.user_ns\n",
    "        self.shell.user_ns = mod.__dict__\n",
    "        \n",
    "        try:\n",
    "          for cell in nb.cells:\n",
    "            if cell.cell_type == 'code':\n",
    "                # transform the input to executable Python\n",
    "                code = self.shell.input_transformer_manager.transform_cell(cell.source)\n",
    "                # run the code in themodule\n",
    "                exec(code, mod.__dict__)\n",
    "        finally:\n",
    "            self.shell.user_ns = save_user_ns\n",
    "        return mod"
   ]
  },
  {
   "cell_type": "code",
   "execution_count": 26,
   "metadata": {
    "collapsed": false
   },
   "outputs": [],
   "source": [
    "class NotebookFinder(object):\n",
    "    \"\"\"Module finder that locates IPython Notebooks\"\"\"\n",
    "    def __init__(self):\n",
    "        self.loaders = {}\n",
    "    \n",
    "    def find_module(self, fullname, path=None):\n",
    "        nb_path = find_notebook(fullname, path)\n",
    "        if not nb_path:\n",
    "            return\n",
    "        \n",
    "        key = path\n",
    "        if path:\n",
    "            # lists aren't hashable\n",
    "            key = os.path.sep.join(path)\n",
    "        \n",
    "        if key not in self.loaders:\n",
    "            self.loaders[key] = NotebookLoader(path)\n",
    "        return self.loaders[key]"
   ]
  },
  {
   "cell_type": "code",
   "execution_count": 27,
   "metadata": {
    "collapsed": true
   },
   "outputs": [],
   "source": [
    "sys.meta_path.append(NotebookFinder())"
   ]
  },
  {
   "cell_type": "code",
   "execution_count": 28,
   "metadata": {
    "collapsed": false
   },
   "outputs": [],
   "source": [
    "import EDA"
   ]
  },
  {
   "cell_type": "code",
   "execution_count": 29,
   "metadata": {
    "collapsed": false
   },
   "outputs": [
    {
     "data": {
      "text/plain": [
       "array(['Date', 'Block', 'Latitude', 'Longitude', 'AddressAccuracy',\n",
       "       'NumMosquitos', 'WnvPresent', 'Station', 'Tmax', 'Tmin', 'Tavg',\n",
       "       'Depart', 'DewPoint', 'WetBulb', 'Heat', 'Cool', 'Sunrise',\n",
       "       'Sunset', 'CodeSum', 'Depth', 'Water1', 'SnowFall', 'PrecipTotal',\n",
       "       'StnPressure', 'SeaLevel', 'ResultSpeed', 'ResultDir', 'AvgSpeed',\n",
       "       'Species_CULEX ERRATICUS', 'Species_CULEX PIPIENS',\n",
       "       'Species_CULEX PIPIENS/RESTUANS', 'Species_CULEX RESTUANS',\n",
       "       'Species_CULEX SALINARIUS', 'Species_CULEX TARSALIS',\n",
       "       'Species_CULEX TERRITANS', 'Street_  W ARMITAGE AVENUE',\n",
       "       'Street_ E 105TH ST', 'Street_ E 111TH ST', 'Street_ E 115TH ST',\n",
       "       'Street_ E 118TH ST', 'Street_ E 130TH ST', 'Street_ E 138TH ST',\n",
       "       'Street_ E 67TH ST', 'Street_ E 91ST PL', 'Street_ E 91ST ST',\n",
       "       'Street_ E RANDOLPH ST', 'Street_ N ASHLAND AVE',\n",
       "       'Street_ N ASHLAND AVE OVERPASS', 'Street_ N AUSTIN AVE',\n",
       "       'Street_ N AVONDALE AVE', 'Street_ N CALIFORNIA AVE',\n",
       "       'Street_ N CAMPBELL AVE', 'Street_ N CANNON DR',\n",
       "       'Street_ N CENTRAL PARK DR', 'Street_ N FRANCISCO AVE',\n",
       "       'Street_ N HARLEM AVE', 'Street_ N HUMBOLDT DR',\n",
       "       'Street_ N KEDVALE AVE', 'Street_ N LARAMIE AVE',\n",
       "       'Street_ N LAWLER AVE', 'Street_ N LEMONT AVE',\n",
       "       'Street_ N LONG AVE', 'Street_ N MANDELL AVE',\n",
       "       'Street_ N MCCLELLAN AVE', 'Street_ N MILWAUKEE AVE',\n",
       "       'Street_ N MONT CLARE AVE', 'Street_ N MOSELL AVE',\n",
       "       'Street_ N OAK PARK AVE', 'Street_ N OAKLEY AVE',\n",
       "       'Street_ N OKETO AVE', 'Street_ N PITTSBURGH AVE',\n",
       "       'Street_ N PULASKI RD', 'Street_ N RICHMOND ST',\n",
       "       'Street_ N RIDGE AVE', 'Street_ N RUTHERFORD AVE',\n",
       "       'Street_ N SPRINGFIELD AVE', 'Street_ N STAVE ST',\n",
       "       'Street_ N STREETER DR', 'Street_ N TRIPP AVE',\n",
       "       'Street_ N WESTERN AVE', 'Street_ S ARTESIAN AVE',\n",
       "       'Street_ S ASHLAND AVE', 'Street_ S AVENUE G', 'Street_ S AVENUE L',\n",
       "       'Street_ S BRANDON', 'Street_ S CALIFORNIA',\n",
       "       'Street_ S CALIFORNIA AVE', 'Street_ S CARPENTER ST',\n",
       "       'Street_ S CENTRAL AVE', 'Street_ S CHICAGO AVE',\n",
       "       'Street_ S CICERO AVE', 'Street_ S CORNELL AVE',\n",
       "       'Street_ S COTTAGE GROVE', 'Street_ S DEARBORN ST',\n",
       "       'Street_ S DOTY AVE', 'Street_ S DR MARTIN LUTHER KING JR DR',\n",
       "       'Street_ S EBERHART AVE', 'Street_ S HAMLIN AVE',\n",
       "       'Street_ S HOYNE AVE', 'Street_ S KEDZIE AVE',\n",
       "       'Street_ S KILPATRICK AVE', 'Street_ S KOLMAR',\n",
       "       'Street_ S KOSTNER AVE', 'Street_ S LONGWOOD DR',\n",
       "       'Street_ S MACKINAW', 'Street_ S MELVINA AVE',\n",
       "       'Street_ S MILLARD AVE', 'Street_ S MUSKEGON AVE',\n",
       "       'Street_ S NORDICA', 'Street_ S PEORIA ST', 'Street_ S PULASKI RD',\n",
       "       'Street_ S RACINE AVE', 'Street_ S SOUTH SHORE DR',\n",
       "       'Street_ S STATE ST', 'Street_ S STONY ISLAND AVE',\n",
       "       'Street_ S THROOP', 'Street_ S TORRENCE AVE', 'Street_ S UNION AVE',\n",
       "       'Street_ S VINCENNES', 'Street_ S WALLACE ST',\n",
       "       'Street_ S WESTERN AVE', 'Street_ W 104TH ST', 'Street_ W 113TH ST',\n",
       "       'Street_ W 116TH ST', 'Street_ W 127TH PL', 'Street_ W 18TH ST',\n",
       "       'Street_ W 31ST ST', 'Street_ W 37TH PL.', 'Street_ W 51ST ST',\n",
       "       'Street_ W 63RD ST', 'Street_ W 64TH ST', 'Street_ W 65TH ST',\n",
       "       'Street_ W 69TH ST', 'Street_ W 72ND ST', 'Street_ W 77TH ST',\n",
       "       'Street_ W 85TH ST', 'Street_ W 89TH ST', 'Street_ W 95TH ST',\n",
       "       'Street_ W ADDISON ST', 'Street_ W AGATITE AVE',\n",
       "       'Street_ W BALMORAL AVE', 'Street_ W BELDEN AVE',\n",
       "       'Street_ W CHICAGO', 'Street_ W FARWELL AVE',\n",
       "       'Street_ W FOSTER AVE', 'Street_ W FULLERTON AVE',\n",
       "       'Street_ W GARFIELD BLVD', 'Street_ W GRAND AVE',\n",
       "       'Street_ W GRANVILLE AVE', 'Street_ W GREENLEAF AVE',\n",
       "       'Street_ W HIGGINS AVE', 'Street_ W HIGGINS RD',\n",
       "       'Street_ W LELAND AVE', 'Street_ W MONTANA ST',\n",
       "       'Street_ W MONTROSE DR', 'Street_ W OHARE',\n",
       "       'Street_ W OHARE AIRPORT', 'Street_ W PERSHING RD',\n",
       "       'Street_ W ROOSEVELT', 'Street_ W ROSCOE ST', 'Street_ W STRONG ST',\n",
       "       'Street_ W SUNNYSIDE AVE', 'Street_ W WEBSTER AVE',\n",
       "       'Address_1000 East 67th Street, Chicago, IL 60637, USA',\n",
       "       'Address_1000 North Central Park Avenue, Chicago, IL 60651, USA',\n",
       "       'Address_1000 South California Avenue, Chicago, IL 60612, USA',\n",
       "       'Address_1000 West 95th Street, Chicago, IL 60643, USA',\n",
       "       'Address_1100 North Artesian Avenue, Chicago, IL 60622, USA',\n",
       "       'Address_1100 Roosevelt Road, Chicago, IL 60608, USA',\n",
       "       'Address_1100 South California Avenue, Chicago, IL 60612, USA',\n",
       "       'Address_1100 South Peoria Street, Chicago, IL 60608, USA',\n",
       "       'Address_1100 South State Street, Chicago, IL 60605, USA',\n",
       "       'Address_1100 West Chicago Avenue, Chicago, IL 60642, USA',\n",
       "       'Address_1200 West Greenleaf Avenue, Chicago, IL 60626, USA',\n",
       "       'Address_1300 North Laramie Avenue, Chicago, IL 60651, USA',\n",
       "       'Address_1400 North Sacramento Avenue, Chicago, IL 60622, USA',\n",
       "       'Address_1500 North Long Avenue, Chicago, IL 60651, USA',\n",
       "       'Address_1500 West Granville Avenue, Chicago, IL 60660, USA',\n",
       "       'Address_1500 West Webster Avenue, Chicago, IL 60614, USA',\n",
       "       'Address_1700 North Ashland Avenue, Chicago, IL 60622, USA',\n",
       "       'Address_1700 North Pulaski Road, Chicago, IL 60639, USA',\n",
       "       'Address_1700 West 95th Street, Chicago, IL 60643, USA',\n",
       "       'Address_1700 West Addison Street, Chicago, IL 60613, USA',\n",
       "       'Address_1800 West Farwell Avenue, Chicago, IL 60626, USA',\n",
       "       'Address_1800 West Leland Avenue, Chicago, IL 60640, USA',\n",
       "       'Address_2000 East 111th Street, Chicago, IL 60628, USA',\n",
       "       'Address_2100 North Cannon Drive, Chicago, IL 60614, USA',\n",
       "       'Address_2100 North Lawler Avenue, Chicago, IL 60639, USA',\n",
       "       'Address_2100 North Stave Street, Chicago, IL 60647, USA',\n",
       "       'Address_2100 South Hamlin Avenue, Chicago, IL 60623, USA',\n",
       "       'Address_2200 North Cannon Drive, Chicago, IL 60614, USA',\n",
       "       'Address_2200 West 113th Street, Chicago, IL 60643, USA',\n",
       "       'Address_2200 West 51st Street, Chicago, IL 60609, USA',\n",
       "       'Address_2200 West 69th Street, Chicago, IL 60636, USA',\n",
       "       'Address_2200 West 89th Street, Chicago, IL 60643, USA',\n",
       "       'Address_2200 West Pershing Road, Chicago, IL 60609, USA',\n",
       "       'Address_2400 East 105th Street, Chicago, IL 60617, USA',\n",
       "       'Address_2500 South Millard Avenue, Chicago, IL 60623, USA',\n",
       "       'Address_2500 South Throop Street, Chicago, IL 60608, USA',\n",
       "       'Address_2500 West Grand Avenue, Chicago, IL 60654, USA',\n",
       "       'Address_2700 South Western Avenue, Chicago, IL 60608, USA',\n",
       "       'Address_2800 North Francisco Avenue, Chicago, IL 60618, USA',\n",
       "       'Address_2900 West 85th Street, Chicago, IL 60652, USA',\n",
       "       'Address_3000 South Hoyne Avenue, Chicago, IL 60608, USA',\n",
       "       'Address_3000 West 18th Street, Chicago, IL 60608, USA',\n",
       "       'Address_3300 North Rutherford Avenue, Chicago, IL 60634, USA',\n",
       "       'Address_3300 West 104th Street, Chicago, IL 60655, USA',\n",
       "       'Address_3300 West Randolph Street, Chicago, IL 60612, USA',\n",
       "       'Address_3400 West 77th Street, Chicago, IL 60652, USA',\n",
       "       'Address_3500 West 116th Street, Chicago, IL 60655, USA',\n",
       "       'Address_3500 West 51st Street, Chicago, IL 60632, USA',\n",
       "       'Address_3600 North Pittsburgh Avenue, Chicago, IL 60634, USA',\n",
       "       'Address_3700 118th Street, Chicago, IL 60617, USA',\n",
       "       'Address_3700 North Kedvale Avenue, Chicago, IL 60641, USA',\n",
       "       'Address_3700 South Pulaski Road, Chicago, IL 60623, USA',\n",
       "       'Address_3800 East 115th Street, Chicago, IL 60617, USA',\n",
       "       'Address_3800 North California Avenue, Chicago, IL 60618, USA',\n",
       "       'Address_3900 North Springfield Avenue, Chicago, IL 60618, USA',\n",
       "       'Address_3900 South Ashland Avenue, Chicago, IL 60609, USA',\n",
       "       'Address_4000 East 130th Street, Chicago, IL 60633, USA',\n",
       "       'Address_4000 North Austin Avenue, Chicago, IL 60634, USA',\n",
       "       'Address_4000 North Tripp Avenue, Chicago, IL 60641, USA',\n",
       "       'Address_4000 South Dearborn Street, Chicago, IL 60609, USA',\n",
       "       'Address_4100 North Oak Park Avenue, Chicago, IL 60634, USA',\n",
       "       'Address_4200 North Richmond Street, Chicago, IL 60618, USA',\n",
       "       'Address_4200 West 127th Street, Alsip, IL 60803, USA',\n",
       "       'Address_4200 West 31st Street, Chicago, IL 60623, USA',\n",
       "       'Address_4200 West 65th Street, Chicago, IL 60621, USA',\n",
       "       'Address_4500 North Campbell Avenue, Chicago, IL 60625, USA',\n",
       "       'Address_4600 Milwaukee Avenue, Chicago, IL 60630, USA',\n",
       "       'Address_4700 South Cornell Avenue, Chicago, IL 60615, USA',\n",
       "       'Address_4800 West Montana Street, Chicago, IL 60639, USA',\n",
       "       'Address_4900 West Balmoral Avenue, Chicago, IL 60630, USA',\n",
       "       'Address_4900 West Sunnyside Avenue, Chicago, IL 60630, USA',\n",
       "       'Address_5000 South Central Avenue, Chicago, IL 60638, USA',\n",
       "       'Address_5000 South Union Avenue, Chicago, IL 60609, USA',\n",
       "       'Address_5100 North Mont Clare Avenue, Chicago, IL 60656, USA',\n",
       "       'Address_5100 West 72nd Street, Chicago, IL 60638, USA',\n",
       "       'Address_5200 South Kolmar Avenue, Chicago, IL 60632, USA',\n",
       "       'Address_5200 South Nordica Avenue, Chicago, IL 60638, USA',\n",
       "       'Address_5300 West Agatite Avenue, Chicago, IL 60630, USA',\n",
       "       'Address_5500 South Doctor Martin Luther King Junior Drive, Chicago, IL 60637, USA',\n",
       "       'Address_5800 North Pulaski Road, Chicago, IL 60646, USA',\n",
       "       'Address_5800 North Ridge Avenue, Chicago, IL 60660, USA',\n",
       "       'Address_5800 North Western Avenue, Chicago, IL 60659, USA',\n",
       "       'Address_6000 North Avondale Avenue, Chicago, IL 60631, USA',\n",
       "       'Address_6000 West Montrose Avenue, Chicago, IL 60634, USA',\n",
       "       'Address_6000 West Roscoe Street, Chicago, IL 60634, USA',\n",
       "       'Address_6100 North Lemont Avenue, Chicago, IL 60646, USA',\n",
       "       'Address_6100 South Melvina Avenue, Chicago, IL 60638, USA',\n",
       "       'Address_6100 West Fullerton Avenue, Chicago, IL 60639, USA',\n",
       "       'Address_6200 North Mandell Avenue, Chicago, IL 60646, USA',\n",
       "       'Address_6200 North Mcclellan Avenue, Chicago, IL 60646, USA',\n",
       "       'Address_6300 West 64th Street, Chicago, IL 60638, USA',\n",
       "       'Address_6400 South Stony Island Avenue, Chicago, IL 60637, USA',\n",
       "       'Address_6400 West Strong Street, Chicago, IL, USA',\n",
       "       'Address_6500 North Oak Park Avenue, Chicago, IL 60631, USA',\n",
       "       'Address_6500 South Racine Avenue, Chicago, IL 60636, USA',\n",
       "       'Address_6600 South Kilpatrick Avenue, Chicago, IL 60629, USA',\n",
       "       'Address_6700 South Kedzie Avenue, Chicago, IL 60629, USA',\n",
       "       'Address_6800 West Belden Avenue, Chicago, IL 60707, USA',\n",
       "       'Address_7000 North Moselle Avenue, Chicago, IL 60646, USA',\n",
       "       'Address_7000 West Armitage Avenue, Chicago, IL 60707, USA',\n",
       "       'Address_7100 North Harlem Avenue, Chicago, IL 60631, USA',\n",
       "       'Address_7100 South South Shore Drive, Chicago, IL 60649, USA',\n",
       "       'Address_7200 North Oketo Avenue, Chicago, IL 60631, USA',\n",
       "       'Address_7300 Cicero Avenue, Chicago, IL 60638, USA',\n",
       "       'Address_7500 North Oakley Avenue, Chicago, IL 60645, USA',\n",
       "       'Address_7700 South Eberhart Avenue, Chicago, IL 60619, USA',\n",
       "       'Address_7900 South South Chicago Avenue, Chicago, IL 60617, USA',\n",
       "       'Address_7900 West Foster Avenue, Chicago, IL 60656, USA',\n",
       "       'Address_8000 South Kedzie Avenue, Chicago, IL 60652, USA',\n",
       "       'Address_8200 South Kostner Avenue, Chicago, IL 60652, USA',\n",
       "       'Address_8900 South Carpenter Street, Chicago, IL 60620, USA',\n",
       "       'Address_8900 South Muskegon Avenue, Chicago, IL 60617, USA',\n",
       "       'Address_9100 West Higgins Avenue, Chicago, IL 60656, USA',\n",
       "       'Address_9100 West Higgins Road, Rosemont, IL 60018, USA',\n",
       "       'Address_9300 South Doctor Martin Luther King Junior Drive, Chicago, IL 60619, USA',\n",
       "       'Address_9600 South Hoyne Avenue, Chicago, IL 60643, USA',\n",
       "       'Address_9600 South Longwood Drive, Chicago, IL 60643, USA',\n",
       "       'Address_9800 South Avenue G, Chicago, IL 60617, USA',\n",
       "       'Address_Chicago Midway International Airport (MDW), 5200 West 63rd Street, Chicago, IL 60638, USA',\n",
       "       'Address_Chicago, IL, USA',\n",
       "       'Address_East 138th Street, Riverdale, IL 60827, USA',\n",
       "       'Address_East 91st Place, Chicago, IL, USA',\n",
       "       'Address_East 91st Street, Chicago, IL, USA',\n",
       "       'Address_North Streeter Drive, Chicago, IL 60611, USA',\n",
       "       \"Address_ORD Terminal 5, O'Hare International Airport, Chicago, IL 60666, USA\",\n",
       "       'Address_Ohare Court, Bensenville, IL 60106, USA',\n",
       "       'Address_South Avenue L, Chicago, IL 60617, USA',\n",
       "       'Address_South Brandon Avenue, Chicago, IL 60617, USA',\n",
       "       'Address_South Cottage Grove Avenue, Chicago, IL, USA',\n",
       "       'Address_South Doty Avenue, Chicago, IL, USA',\n",
       "       'Address_South Mackinaw Avenue, Chicago, IL 60617, USA',\n",
       "       'Address_South Stony Island Avenue, Chicago, IL, USA',\n",
       "       'Address_South Torrence Avenue, Chicago, IL, USA',\n",
       "       'Address_South Vincennes Avenue, Chicago, IL, USA',\n",
       "       'Address_South Wallace Street, Chicago, IL, USA',\n",
       "       'Address_University of Illinois at Chicago, 1100 South Ashland Avenue, Chicago, IL 60607, USA',\n",
       "       'Address_West 37th Place, Chicago, IL, USA',\n",
       "       'Address_West Garfield Boulevard, Chicago, IL, USA',\n",
       "       'AddressNumberAndStreet_1000  E 67TH ST, Chicago, IL',\n",
       "       'AddressNumberAndStreet_1000  N CENTRAL PARK DR, Chicago, IL',\n",
       "       'AddressNumberAndStreet_1000  S CALIFORNIA AVE, Chicago, IL',\n",
       "       'AddressNumberAndStreet_1000  S COTTAGE GROVE, Chicago, IL',\n",
       "       'AddressNumberAndStreet_1000  S STONY ISLAND AVE, Chicago, IL',\n",
       "       'AddressNumberAndStreet_1000  S VINCENNES, Chicago, IL',\n",
       "       'AddressNumberAndStreet_1000  W 95TH ST, Chicago, IL',\n",
       "       'AddressNumberAndStreet_1000  W OHARE AIRPORT, Chicago, IL',\n",
       "       'AddressNumberAndStreet_1000  W OHARE, Chicago, IL',\n",
       "       'AddressNumberAndStreet_1100  S ARTESIAN AVE, Chicago, IL',\n",
       "       'AddressNumberAndStreet_1100  S ASHLAND AVE, Chicago, IL',\n",
       "       'AddressNumberAndStreet_1100  S AVENUE L, Chicago, IL',\n",
       "       'AddressNumberAndStreet_1100  S CALIFORNIA, Chicago, IL',\n",
       "       'AddressNumberAndStreet_1100  S PEORIA ST, Chicago, IL',\n",
       "       'AddressNumberAndStreet_1100  S STATE ST, Chicago, IL',\n",
       "       'AddressNumberAndStreet_1100  S WALLACE ST, Chicago, IL',\n",
       "       'AddressNumberAndStreet_1100  W CHICAGO, Chicago, IL',\n",
       "       'AddressNumberAndStreet_1100  W ROOSEVELT, Chicago, IL',\n",
       "       'AddressNumberAndStreet_1200  S DOTY AVE, Chicago, IL',\n",
       "       'AddressNumberAndStreet_1200  W GREENLEAF AVE, Chicago, IL',\n",
       "       'AddressNumberAndStreet_1300  N LARAMIE AVE, Chicago, IL',\n",
       "       'AddressNumberAndStreet_1300  S BRANDON, Chicago, IL',\n",
       "       'AddressNumberAndStreet_1300  S MACKINAW, Chicago, IL',\n",
       "       'AddressNumberAndStreet_1300  S TORRENCE AVE, Chicago, IL',\n",
       "       'AddressNumberAndStreet_1400  N HUMBOLDT DR, Chicago, IL',\n",
       "       'AddressNumberAndStreet_1500  N LONG AVE, Chicago, IL',\n",
       "       'AddressNumberAndStreet_1500  W GRANVILLE AVE, Chicago, IL',\n",
       "       'AddressNumberAndStreet_1500  W WEBSTER AVE, Chicago, IL',\n",
       "       'AddressNumberAndStreet_1700  N ASHLAND AVE, Chicago, IL',\n",
       "       'AddressNumberAndStreet_1700  N PULASKI RD, Chicago, IL',\n",
       "       'AddressNumberAndStreet_1700  W 95TH ST, Chicago, IL',\n",
       "       'AddressNumberAndStreet_1700  W ADDISON ST, Chicago, IL',\n",
       "       'AddressNumberAndStreet_1800  W FARWELL AVE, Chicago, IL',\n",
       "       'AddressNumberAndStreet_1800  W LELAND AVE, Chicago, IL',\n",
       "       'AddressNumberAndStreet_2000  E 111TH ST, Chicago, IL',\n",
       "       'AddressNumberAndStreet_2100  N CANNON DR, Chicago, IL',\n",
       "       'AddressNumberAndStreet_2100  N LAWLER AVE, Chicago, IL',\n",
       "       'AddressNumberAndStreet_2100  N STAVE ST, Chicago, IL',\n",
       "       'AddressNumberAndStreet_2100  S HAMLIN AVE, Chicago, IL',\n",
       "       'AddressNumberAndStreet_2200  N CANNON DR, Chicago, IL',\n",
       "       'AddressNumberAndStreet_2200  W 113TH ST, Chicago, IL',\n",
       "       'AddressNumberAndStreet_2200  W 51ST ST, Chicago, IL',\n",
       "       'AddressNumberAndStreet_2200  W 69TH ST, Chicago, IL',\n",
       "       'AddressNumberAndStreet_2200  W 89TH ST, Chicago, IL',\n",
       "       'AddressNumberAndStreet_2200  W PERSHING RD, Chicago, IL',\n",
       "       'AddressNumberAndStreet_2400  E 105TH ST, Chicago, IL',\n",
       "       'AddressNumberAndStreet_2500  S MILLARD AVE, Chicago, IL',\n",
       "       'AddressNumberAndStreet_2500  S THROOP, Chicago, IL',\n",
       "       'AddressNumberAndStreet_2500  W GRAND AVE, Chicago, IL',\n",
       "       'AddressNumberAndStreet_2700  S WESTERN AVE, Chicago, IL',\n",
       "       'AddressNumberAndStreet_2800  N FRANCISCO AVE, Chicago, IL',\n",
       "       'AddressNumberAndStreet_2900  W 85TH ST, Chicago, IL',\n",
       "       'AddressNumberAndStreet_3000  S HOYNE AVE, Chicago, IL',\n",
       "       'AddressNumberAndStreet_3000  W 18TH ST, Chicago, IL',\n",
       "       'AddressNumberAndStreet_3300  E RANDOLPH ST, Chicago, IL',\n",
       "       'AddressNumberAndStreet_3300  N RUTHERFORD AVE, Chicago, IL',\n",
       "       'AddressNumberAndStreet_3300  W 104TH ST, Chicago, IL',\n",
       "       'AddressNumberAndStreet_3400  W 77TH ST, Chicago, IL',\n",
       "       'AddressNumberAndStreet_3500  W 116TH ST, Chicago, IL',\n",
       "       'AddressNumberAndStreet_3500  W 51ST ST, Chicago, IL',\n",
       "       'AddressNumberAndStreet_3600  N PITTSBURGH AVE, Chicago, IL',\n",
       "       'AddressNumberAndStreet_3700  E 118TH ST, Chicago, IL',\n",
       "       'AddressNumberAndStreet_3700  N KEDVALE AVE, Chicago, IL',\n",
       "       'AddressNumberAndStreet_3700  S PULASKI RD, Chicago, IL',\n",
       "       'AddressNumberAndStreet_3800  E 115TH ST, Chicago, IL',\n",
       "       'AddressNumberAndStreet_3800  N CALIFORNIA AVE, Chicago, IL',\n",
       "       'AddressNumberAndStreet_3900  N SPRINGFIELD AVE, Chicago, IL',\n",
       "       'AddressNumberAndStreet_3900  S ASHLAND AVE, Chicago, IL',\n",
       "       'AddressNumberAndStreet_4000  E 130TH ST, Chicago, IL',\n",
       "       'AddressNumberAndStreet_4000  N AUSTIN AVE, Chicago, IL',\n",
       "       'AddressNumberAndStreet_4000  N TRIPP AVE, Chicago, IL',\n",
       "       'AddressNumberAndStreet_4000  S DEARBORN ST, Chicago, IL',\n",
       "       'AddressNumberAndStreet_4100  N OAK PARK AVE, Chicago, IL',\n",
       "       'AddressNumberAndStreet_4200  N RICHMOND ST, Chicago, IL',\n",
       "       'AddressNumberAndStreet_4200  W 127TH PL, Chicago, IL',\n",
       "       'AddressNumberAndStreet_4200  W 31ST ST, Chicago, IL',\n",
       "       'AddressNumberAndStreet_4200  W 65TH ST, Chicago, IL',\n",
       "       'AddressNumberAndStreet_4300  N ASHLAND AVE OVERPASS, Chicago, IL',\n",
       "       'AddressNumberAndStreet_4500  N CAMPBELL AVE, Chicago, IL',\n",
       "       'AddressNumberAndStreet_4600  N MILWAUKEE AVE, Chicago, IL',\n",
       "       'AddressNumberAndStreet_4700  S CORNELL AVE, Chicago, IL',\n",
       "       'AddressNumberAndStreet_4800  W MONTANA ST, Chicago, IL',\n",
       "       'AddressNumberAndStreet_4900  W BALMORAL AVE, Chicago, IL',\n",
       "       'AddressNumberAndStreet_4900  W SUNNYSIDE AVE, Chicago, IL',\n",
       "       'AddressNumberAndStreet_5000  S CENTRAL AVE, Chicago, IL',\n",
       "       'AddressNumberAndStreet_5000  S UNION AVE, Chicago, IL',\n",
       "       'AddressNumberAndStreet_5100  N MONT CLARE AVE, Chicago, IL',\n",
       "       'AddressNumberAndStreet_5100  W 72ND ST, Chicago, IL',\n",
       "       'AddressNumberAndStreet_5200  S KOLMAR, Chicago, IL',\n",
       "       'AddressNumberAndStreet_5200  S NORDICA, Chicago, IL',\n",
       "       'AddressNumberAndStreet_5200  W 63RD ST, Chicago, IL',\n",
       "       'AddressNumberAndStreet_5300  N STREETER DR, Chicago, IL',\n",
       "       'AddressNumberAndStreet_5300  W AGATITE AVE, Chicago, IL',\n",
       "       'AddressNumberAndStreet_5500  S DR MARTIN LUTHER KING JR DR, Chicago, IL',\n",
       "       'AddressNumberAndStreet_5800  N PULASKI RD, Chicago, IL',\n",
       "       'AddressNumberAndStreet_5800  N RIDGE AVE, Chicago, IL',\n",
       "       'AddressNumberAndStreet_5800  N WESTERN AVE, Chicago, IL',\n",
       "       'AddressNumberAndStreet_6000  N AVONDALE AVE, Chicago, IL',\n",
       "       'AddressNumberAndStreet_6000  W MONTROSE DR, Chicago, IL',\n",
       "       'AddressNumberAndStreet_6000  W ROSCOE ST, Chicago, IL',\n",
       "       'AddressNumberAndStreet_6100  N LEMONT AVE, Chicago, IL',\n",
       "       'AddressNumberAndStreet_6100  S MELVINA AVE, Chicago, IL',\n",
       "       'AddressNumberAndStreet_6100  W FULLERTON AVE, Chicago, IL',\n",
       "       'AddressNumberAndStreet_6200  N MANDELL AVE, Chicago, IL',\n",
       "       'AddressNumberAndStreet_6200  N MCCLELLAN AVE, Chicago, IL',\n",
       "       'AddressNumberAndStreet_6300  W 64TH ST, Chicago, IL',\n",
       "       'AddressNumberAndStreet_6400  S STONY ISLAND AVE, Chicago, IL',\n",
       "       'AddressNumberAndStreet_6400  W STRONG ST, Chicago, IL',\n",
       "       'AddressNumberAndStreet_6500  E 91ST PL, Chicago, IL',\n",
       "       'AddressNumberAndStreet_6500  N OAK PARK AVE, Chicago, IL',\n",
       "       'AddressNumberAndStreet_6500  S RACINE AVE, Chicago, IL',\n",
       "       'AddressNumberAndStreet_6600  S KILPATRICK AVE, Chicago, IL',\n",
       "       'AddressNumberAndStreet_6700  S KEDZIE AVE, Chicago, IL',\n",
       "       'AddressNumberAndStreet_6800  W BELDEN AVE, Chicago, IL',\n",
       "       'AddressNumberAndStreet_7000   W ARMITAGE AVENUE, Chicago, IL',\n",
       "       'AddressNumberAndStreet_7000  N MOSELL AVE, Chicago, IL',\n",
       "       'AddressNumberAndStreet_7100  N HARLEM AVE, Chicago, IL',\n",
       "       'AddressNumberAndStreet_7100  S SOUTH SHORE DR, Chicago, IL',\n",
       "       'AddressNumberAndStreet_7200  N OKETO AVE, Chicago, IL',\n",
       "       'AddressNumberAndStreet_7300  S CICERO AVE, Chicago, IL',\n",
       "       'AddressNumberAndStreet_7500  N OAKLEY AVE, Chicago, IL',\n",
       "       'AddressNumberAndStreet_7700  S EBERHART AVE, Chicago, IL',\n",
       "       'AddressNumberAndStreet_7900  S CHICAGO AVE, Chicago, IL',\n",
       "       'AddressNumberAndStreet_7900  W FOSTER AVE, Chicago, IL',\n",
       "       'AddressNumberAndStreet_8000  S KEDZIE AVE, Chicago, IL',\n",
       "       'AddressNumberAndStreet_8100  E 91ST ST, Chicago, IL',\n",
       "       'AddressNumberAndStreet_8100  W 37TH PL., Chicago, IL',\n",
       "       'AddressNumberAndStreet_8200  E 138TH ST, Chicago, IL',\n",
       "       'AddressNumberAndStreet_8200  S KOSTNER AVE, Chicago, IL',\n",
       "       'AddressNumberAndStreet_8900  S CARPENTER ST, Chicago, IL',\n",
       "       'AddressNumberAndStreet_8900  S MUSKEGON AVE, Chicago, IL',\n",
       "       'AddressNumberAndStreet_9000  W GARFIELD BLVD, Chicago, IL',\n",
       "       'AddressNumberAndStreet_9100  W HIGGINS AVE, Chicago, IL',\n",
       "       'AddressNumberAndStreet_9100  W HIGGINS RD, Chicago, IL',\n",
       "       'AddressNumberAndStreet_9300  S DR MARTIN LUTHER KING JR DR, Chicago, IL',\n",
       "       'AddressNumberAndStreet_9600  S HOYNE AVE, Chicago, IL',\n",
       "       'AddressNumberAndStreet_9600  S LONGWOOD DR, Chicago, IL',\n",
       "       'AddressNumberAndStreet_9800  S AVENUE G, Chicago, IL', 'Trap_T001',\n",
       "       'Trap_T002', 'Trap_T003', 'Trap_T004', 'Trap_T005', 'Trap_T006',\n",
       "       'Trap_T007', 'Trap_T008', 'Trap_T009', 'Trap_T011', 'Trap_T012',\n",
       "       'Trap_T013', 'Trap_T014', 'Trap_T015', 'Trap_T016', 'Trap_T017',\n",
       "       'Trap_T018', 'Trap_T019', 'Trap_T025', 'Trap_T027', 'Trap_T028',\n",
       "       'Trap_T030', 'Trap_T031', 'Trap_T033', 'Trap_T034', 'Trap_T035',\n",
       "       'Trap_T036', 'Trap_T037', 'Trap_T039', 'Trap_T040', 'Trap_T043',\n",
       "       'Trap_T044', 'Trap_T045', 'Trap_T046', 'Trap_T047', 'Trap_T048',\n",
       "       'Trap_T049', 'Trap_T050', 'Trap_T051', 'Trap_T054', 'Trap_T054C',\n",
       "       'Trap_T060', 'Trap_T061', 'Trap_T062', 'Trap_T063', 'Trap_T065',\n",
       "       'Trap_T066', 'Trap_T067', 'Trap_T069', 'Trap_T070', 'Trap_T071',\n",
       "       'Trap_T072', 'Trap_T073', 'Trap_T074', 'Trap_T075', 'Trap_T076',\n",
       "       'Trap_T077', 'Trap_T078', 'Trap_T079', 'Trap_T080', 'Trap_T081',\n",
       "       'Trap_T082', 'Trap_T083', 'Trap_T084', 'Trap_T085', 'Trap_T086',\n",
       "       'Trap_T088', 'Trap_T089', 'Trap_T090', 'Trap_T091', 'Trap_T092',\n",
       "       'Trap_T094', 'Trap_T094B', 'Trap_T095', 'Trap_T096', 'Trap_T097',\n",
       "       'Trap_T099', 'Trap_T100', 'Trap_T102', 'Trap_T103', 'Trap_T107',\n",
       "       'Trap_T114', 'Trap_T115', 'Trap_T128', 'Trap_T129', 'Trap_T135',\n",
       "       'Trap_T138', 'Trap_T141', 'Trap_T142', 'Trap_T143', 'Trap_T144',\n",
       "       'Trap_T145', 'Trap_T146', 'Trap_T147', 'Trap_T148', 'Trap_T149',\n",
       "       'Trap_T150', 'Trap_T151', 'Trap_T152', 'Trap_T153', 'Trap_T154',\n",
       "       'Trap_T155', 'Trap_T156', 'Trap_T157', 'Trap_T158', 'Trap_T159',\n",
       "       'Trap_T160', 'Trap_T161', 'Trap_T162', 'Trap_T200', 'Trap_T206',\n",
       "       'Trap_T209', 'Trap_T212', 'Trap_T215', 'Trap_T218', 'Trap_T219',\n",
       "       'Trap_T220', 'Trap_T221', 'Trap_T222', 'Trap_T223', 'Trap_T224',\n",
       "       'Trap_T225', 'Trap_T226', 'Trap_T227', 'Trap_T228', 'Trap_T229',\n",
       "       'Trap_T230', 'Trap_T231', 'Trap_T232', 'Trap_T233', 'Trap_T235',\n",
       "       'Trap_T236', 'Trap_T237', 'Trap_T238', 'Trap_T900', 'Trap_T903'], dtype=object)"
      ]
     },
     "execution_count": 29,
     "metadata": {},
     "output_type": "execute_result"
    }
   ],
   "source": [
    "EDA.final_data.columns.values\n"
   ]
  },
  {
   "cell_type": "markdown",
   "metadata": {},
   "source": [
    "## Create cross validation sets"
   ]
  },
  {
   "cell_type": "code",
   "execution_count": 30,
   "metadata": {
    "collapsed": false
   },
   "outputs": [
    {
     "name": "stdout",
     "output_type": "stream",
     "text": [
      "       Block   Latitude  Longitude  AddressAccuracy  NumMosquitos  Station  \\\n",
      "0         41  41.954690 -87.800991                9             1        1   \n",
      "1         41  41.954690 -87.800991                9             1        2   \n",
      "2         41  41.954690 -87.800991                9             1        1   \n",
      "3         41  41.954690 -87.800991                9             1        2   \n",
      "4         62  41.994991 -87.769279                9             1        1   \n",
      "5         62  41.994991 -87.769279                9             1        2   \n",
      "6         79  41.974089 -87.824812                8             1        1   \n",
      "7         79  41.974089 -87.824812                8             1        2   \n",
      "8         79  41.974089 -87.824812                8             4        1   \n",
      "9         79  41.974089 -87.824812                8             4        2   \n",
      "10        15  41.921600 -87.666455                8             2        1   \n",
      "11        15  41.921600 -87.666455                8             2        2   \n",
      "12        25  41.891118 -87.654491                8             1        1   \n",
      "13        25  41.891118 -87.654491                8             1        2   \n",
      "14        11  41.867108 -87.654224                8             1        1   \n",
      "15        11  41.867108 -87.654224                8             1        2   \n",
      "16        11  41.867108 -87.654224                8             2        1   \n",
      "17        11  41.867108 -87.654224                8             2        2   \n",
      "18        11  41.896282 -87.655232                8             1        1   \n",
      "19        11  41.896282 -87.655232                8             1        2   \n",
      "20        21  41.919343 -87.694259                8             1        1   \n",
      "21        21  41.919343 -87.694259                8             1        2   \n",
      "22        22  41.921965 -87.632085                8             2        1   \n",
      "23        22  41.921965 -87.632085                8             2        2   \n",
      "24        22  41.921965 -87.632085                8             3        1   \n",
      "25        22  41.921965 -87.632085                8             3        2   \n",
      "26        22  41.688324 -87.676709                8             1        1   \n",
      "27        22  41.688324 -87.676709                8             1        2   \n",
      "28        22  41.688324 -87.676709                8             1        1   \n",
      "29        22  41.688324 -87.676709                8             1        2   \n",
      "...      ...        ...        ...              ...           ...      ...   \n",
      "20982     51  41.973845 -87.805059                9            11        1   \n",
      "20983     51  41.973845 -87.805059                9            11        2   \n",
      "20984     51  41.973845 -87.805059                9             1        1   \n",
      "20985     51  41.973845 -87.805059                9             1        2   \n",
      "20986     82  41.743402 -87.731435                8             3        1   \n",
      "20987     82  41.743402 -87.731435                8             3        2   \n",
      "20988     65  41.728495 -87.600963                5             7        1   \n",
      "20989     65  41.728495 -87.600963                5             7        2   \n",
      "20990     65  41.728495 -87.600963                5             1        1   \n",
      "20991     65  41.728495 -87.600963                5             1        2   \n",
      "20992     17  41.947227 -87.671457                9             3        1   \n",
      "20993     17  41.947227 -87.671457                9             3        2   \n",
      "20994     90  41.793818 -87.654234                5             8        1   \n",
      "20995     90  41.793818 -87.654234                5             8        2   \n",
      "20996     13  41.904194 -87.756155                9            13        1   \n",
      "20997     13  41.904194 -87.756155                9            13        2   \n",
      "20998     13  41.904194 -87.756155                9             5        1   \n",
      "20999     13  41.904194 -87.756155                9             5        2   \n",
      "21000     39  41.951866 -87.725057                8             3        1   \n",
      "21001     39  41.951866 -87.725057                8             3        2   \n",
      "21002     51  41.763733 -87.742302                8             6        1   \n",
      "21003     51  41.763733 -87.742302                8             6        2   \n",
      "21004     58  41.987280 -87.666066                8             5        1   \n",
      "21005     58  41.987280 -87.666066                8             5        2   \n",
      "21006     17  41.912563 -87.668055                9             1        1   \n",
      "21007     17  41.912563 -87.668055                9             1        2   \n",
      "21008     71  42.009876 -87.807277                9             5        1   \n",
      "21009     71  42.009876 -87.807277                9             5        2   \n",
      "21010     42  41.776428 -87.627096                8             1        1   \n",
      "21011     42  41.776428 -87.627096                8             1        2   \n",
      "\n",
      "       Tmax  Tmin  Tavg  Depart    ...      Trap_T230  Trap_T231  Trap_T232  \\\n",
      "0        88    60    74    10.0    ...            0.0        0.0        0.0   \n",
      "1        88    65    77     0.0    ...            0.0        0.0        0.0   \n",
      "2        88    60    74    10.0    ...            0.0        0.0        0.0   \n",
      "3        88    65    77     0.0    ...            0.0        0.0        0.0   \n",
      "4        88    60    74    10.0    ...            0.0        0.0        0.0   \n",
      "5        88    65    77     0.0    ...            0.0        0.0        0.0   \n",
      "6        88    60    74    10.0    ...            0.0        0.0        0.0   \n",
      "7        88    65    77     0.0    ...            0.0        0.0        0.0   \n",
      "8        88    60    74    10.0    ...            0.0        0.0        0.0   \n",
      "9        88    65    77     0.0    ...            0.0        0.0        0.0   \n",
      "10       88    60    74    10.0    ...            0.0        0.0        0.0   \n",
      "11       88    65    77     0.0    ...            0.0        0.0        0.0   \n",
      "12       88    60    74    10.0    ...            0.0        0.0        0.0   \n",
      "13       88    65    77     0.0    ...            0.0        0.0        0.0   \n",
      "14       88    60    74    10.0    ...            0.0        0.0        0.0   \n",
      "15       88    65    77     0.0    ...            0.0        0.0        0.0   \n",
      "16       88    60    74    10.0    ...            0.0        0.0        0.0   \n",
      "17       88    65    77     0.0    ...            0.0        0.0        0.0   \n",
      "18       88    60    74    10.0    ...            0.0        0.0        0.0   \n",
      "19       88    65    77     0.0    ...            0.0        0.0        0.0   \n",
      "20       88    60    74    10.0    ...            0.0        0.0        0.0   \n",
      "21       88    65    77     0.0    ...            0.0        0.0        0.0   \n",
      "22       88    60    74    10.0    ...            0.0        0.0        0.0   \n",
      "23       88    65    77     0.0    ...            0.0        0.0        0.0   \n",
      "24       88    60    74    10.0    ...            0.0        0.0        0.0   \n",
      "25       88    65    77     0.0    ...            0.0        0.0        0.0   \n",
      "26       88    60    74    10.0    ...            0.0        0.0        0.0   \n",
      "27       88    65    77     0.0    ...            0.0        0.0        0.0   \n",
      "28       88    60    74    10.0    ...            0.0        0.0        0.0   \n",
      "29       88    65    77     0.0    ...            0.0        0.0        0.0   \n",
      "...     ...   ...   ...     ...    ...            ...        ...        ...   \n",
      "20982    75    50    63     3.0    ...            0.0        0.0        0.0   \n",
      "20983    75    55    65     0.0    ...            0.0        0.0        0.0   \n",
      "20984    75    50    63     3.0    ...            0.0        0.0        0.0   \n",
      "20985    75    55    65     0.0    ...            0.0        0.0        0.0   \n",
      "20986    75    50    63     3.0    ...            0.0        0.0        0.0   \n",
      "20987    75    55    65     0.0    ...            0.0        0.0        0.0   \n",
      "20988    75    50    63     3.0    ...            0.0        0.0        0.0   \n",
      "20989    75    55    65     0.0    ...            0.0        0.0        0.0   \n",
      "20990    75    50    63     3.0    ...            0.0        0.0        0.0   \n",
      "20991    75    55    65     0.0    ...            0.0        0.0        0.0   \n",
      "20992    75    50    63     3.0    ...            0.0        0.0        0.0   \n",
      "20993    75    55    65     0.0    ...            0.0        0.0        0.0   \n",
      "20994    75    50    63     3.0    ...            0.0        0.0        0.0   \n",
      "20995    75    55    65     0.0    ...            0.0        0.0        0.0   \n",
      "20996    75    50    63     3.0    ...            1.0        0.0        0.0   \n",
      "20997    75    55    65     0.0    ...            1.0        0.0        0.0   \n",
      "20998    75    50    63     3.0    ...            1.0        0.0        0.0   \n",
      "20999    75    55    65     0.0    ...            1.0        0.0        0.0   \n",
      "21000    75    50    63     3.0    ...            0.0        0.0        0.0   \n",
      "21001    75    55    65     0.0    ...            0.0        0.0        0.0   \n",
      "21002    75    50    63     3.0    ...            0.0        0.0        0.0   \n",
      "21003    75    55    65     0.0    ...            0.0        0.0        0.0   \n",
      "21004    75    50    63     3.0    ...            0.0        1.0        0.0   \n",
      "21005    75    55    65     0.0    ...            0.0        1.0        0.0   \n",
      "21006    75    50    63     3.0    ...            0.0        0.0        1.0   \n",
      "21007    75    55    65     0.0    ...            0.0        0.0        1.0   \n",
      "21008    75    50    63     3.0    ...            0.0        0.0        0.0   \n",
      "21009    75    55    65     0.0    ...            0.0        0.0        0.0   \n",
      "21010    75    50    63     3.0    ...            0.0        0.0        0.0   \n",
      "21011    75    55    65     0.0    ...            0.0        0.0        0.0   \n",
      "\n",
      "       Trap_T233  Trap_T235  Trap_T236  Trap_T237  Trap_T238  Trap_T900  \\\n",
      "0            0.0        0.0        0.0        0.0        0.0        0.0   \n",
      "1            0.0        0.0        0.0        0.0        0.0        0.0   \n",
      "2            0.0        0.0        0.0        0.0        0.0        0.0   \n",
      "3            0.0        0.0        0.0        0.0        0.0        0.0   \n",
      "4            0.0        0.0        0.0        0.0        0.0        0.0   \n",
      "5            0.0        0.0        0.0        0.0        0.0        0.0   \n",
      "6            0.0        0.0        0.0        0.0        0.0        0.0   \n",
      "7            0.0        0.0        0.0        0.0        0.0        0.0   \n",
      "8            0.0        0.0        0.0        0.0        0.0        0.0   \n",
      "9            0.0        0.0        0.0        0.0        0.0        0.0   \n",
      "10           0.0        0.0        0.0        0.0        0.0        0.0   \n",
      "11           0.0        0.0        0.0        0.0        0.0        0.0   \n",
      "12           0.0        0.0        0.0        0.0        0.0        0.0   \n",
      "13           0.0        0.0        0.0        0.0        0.0        0.0   \n",
      "14           0.0        0.0        0.0        0.0        0.0        0.0   \n",
      "15           0.0        0.0        0.0        0.0        0.0        0.0   \n",
      "16           0.0        0.0        0.0        0.0        0.0        0.0   \n",
      "17           0.0        0.0        0.0        0.0        0.0        0.0   \n",
      "18           0.0        0.0        0.0        0.0        0.0        0.0   \n",
      "19           0.0        0.0        0.0        0.0        0.0        0.0   \n",
      "20           0.0        0.0        0.0        0.0        0.0        0.0   \n",
      "21           0.0        0.0        0.0        0.0        0.0        0.0   \n",
      "22           0.0        0.0        0.0        0.0        0.0        0.0   \n",
      "23           0.0        0.0        0.0        0.0        0.0        0.0   \n",
      "24           0.0        0.0        0.0        0.0        0.0        0.0   \n",
      "25           0.0        0.0        0.0        0.0        0.0        0.0   \n",
      "26           0.0        0.0        0.0        0.0        0.0        0.0   \n",
      "27           0.0        0.0        0.0        0.0        0.0        0.0   \n",
      "28           0.0        0.0        0.0        0.0        0.0        0.0   \n",
      "29           0.0        0.0        0.0        0.0        0.0        0.0   \n",
      "...          ...        ...        ...        ...        ...        ...   \n",
      "20982        0.0        0.0        0.0        0.0        0.0        0.0   \n",
      "20983        0.0        0.0        0.0        0.0        0.0        0.0   \n",
      "20984        0.0        0.0        0.0        0.0        0.0        0.0   \n",
      "20985        0.0        0.0        0.0        0.0        0.0        0.0   \n",
      "20986        0.0        0.0        0.0        0.0        0.0        0.0   \n",
      "20987        0.0        0.0        0.0        0.0        0.0        0.0   \n",
      "20988        0.0        0.0        0.0        0.0        0.0        0.0   \n",
      "20989        0.0        0.0        0.0        0.0        0.0        0.0   \n",
      "20990        0.0        0.0        0.0        0.0        0.0        0.0   \n",
      "20991        0.0        0.0        0.0        0.0        0.0        0.0   \n",
      "20992        0.0        0.0        0.0        0.0        0.0        0.0   \n",
      "20993        0.0        0.0        0.0        0.0        0.0        0.0   \n",
      "20994        0.0        0.0        0.0        0.0        0.0        0.0   \n",
      "20995        0.0        0.0        0.0        0.0        0.0        0.0   \n",
      "20996        0.0        0.0        0.0        0.0        0.0        0.0   \n",
      "20997        0.0        0.0        0.0        0.0        0.0        0.0   \n",
      "20998        0.0        0.0        0.0        0.0        0.0        0.0   \n",
      "20999        0.0        0.0        0.0        0.0        0.0        0.0   \n",
      "21000        0.0        0.0        0.0        0.0        0.0        0.0   \n",
      "21001        0.0        0.0        0.0        0.0        0.0        0.0   \n",
      "21002        0.0        0.0        0.0        0.0        0.0        0.0   \n",
      "21003        0.0        0.0        0.0        0.0        0.0        0.0   \n",
      "21004        0.0        0.0        0.0        0.0        0.0        0.0   \n",
      "21005        0.0        0.0        0.0        0.0        0.0        0.0   \n",
      "21006        0.0        0.0        0.0        0.0        0.0        0.0   \n",
      "21007        0.0        0.0        0.0        0.0        0.0        0.0   \n",
      "21008        1.0        0.0        0.0        0.0        0.0        0.0   \n",
      "21009        1.0        0.0        0.0        0.0        0.0        0.0   \n",
      "21010        0.0        1.0        0.0        0.0        0.0        0.0   \n",
      "21011        0.0        1.0        0.0        0.0        0.0        0.0   \n",
      "\n",
      "       Trap_T903  \n",
      "0            0.0  \n",
      "1            0.0  \n",
      "2            0.0  \n",
      "3            0.0  \n",
      "4            0.0  \n",
      "5            0.0  \n",
      "6            0.0  \n",
      "7            0.0  \n",
      "8            0.0  \n",
      "9            0.0  \n",
      "10           0.0  \n",
      "11           0.0  \n",
      "12           0.0  \n",
      "13           0.0  \n",
      "14           0.0  \n",
      "15           0.0  \n",
      "16           0.0  \n",
      "17           0.0  \n",
      "18           0.0  \n",
      "19           0.0  \n",
      "20           0.0  \n",
      "21           0.0  \n",
      "22           0.0  \n",
      "23           0.0  \n",
      "24           0.0  \n",
      "25           0.0  \n",
      "26           0.0  \n",
      "27           0.0  \n",
      "28           0.0  \n",
      "29           0.0  \n",
      "...          ...  \n",
      "20982        0.0  \n",
      "20983        0.0  \n",
      "20984        0.0  \n",
      "20985        0.0  \n",
      "20986        0.0  \n",
      "20987        0.0  \n",
      "20988        0.0  \n",
      "20989        0.0  \n",
      "20990        0.0  \n",
      "20991        0.0  \n",
      "20992        0.0  \n",
      "20993        0.0  \n",
      "20994        0.0  \n",
      "20995        0.0  \n",
      "20996        0.0  \n",
      "20997        0.0  \n",
      "20998        0.0  \n",
      "20999        0.0  \n",
      "21000        0.0  \n",
      "21001        0.0  \n",
      "21002        0.0  \n",
      "21003        0.0  \n",
      "21004        0.0  \n",
      "21005        0.0  \n",
      "21006        0.0  \n",
      "21007        0.0  \n",
      "21008        0.0  \n",
      "21009        0.0  \n",
      "21010        0.0  \n",
      "21011        0.0  \n",
      "\n",
      "[21012 rows x 573 columns]\n"
     ]
    }
   ],
   "source": [
    "# set the target variable\n",
    "target = 'WnvPresent'\n",
    "\n",
    "#EDA.final_data\n",
    "\n",
    "#list(EDA.final_data.columns.values)\n",
    "\n",
    "# Set X and y\n",
    "X = EDA.final_numeric_data.drop([target], axis=1)\n",
    "y = EDA.final_numeric_data[target]\n",
    "\n",
    "#EDA.final_data\n",
    "\n",
    "print X\n",
    "\n"
   ]
  },
  {
   "cell_type": "code",
   "execution_count": 31,
   "metadata": {
    "collapsed": false
   },
   "outputs": [],
   "source": [
    "# Create separate training and test sets with 60/40 train/test split\n",
    "X_train, X_test, y_train, y_test = cross_validation.train_test_split(X, y, test_size=0.4, random_state=42)"
   ]
  },
  {
   "cell_type": "markdown",
   "metadata": {},
   "source": [
    "## Build a model"
   ]
  },
  {
   "cell_type": "code",
   "execution_count": 32,
   "metadata": {
    "collapsed": false
   },
   "outputs": [
    {
     "data": {
      "text/plain": [
       "LogisticRegression(C=1.0, class_weight=None, dual=False, fit_intercept=True,\n",
       "          intercept_scaling=1, max_iter=100, multi_class='ovr', n_jobs=1,\n",
       "          penalty='l2', random_state=None, solver='liblinear', tol=0.0001,\n",
       "          verbose=0, warm_start=False)"
      ]
     },
     "execution_count": 32,
     "metadata": {},
     "output_type": "execute_result"
    }
   ],
   "source": [
    "# Instantiate logistic regression classifier using default params\n",
    "lm = linear_model.LogisticRegression()\n",
    "\n",
    "# Train logistic regression classifier on training set\n",
    "lm.fit(X_train, y_train)"
   ]
  },
  {
   "cell_type": "markdown",
   "metadata": {},
   "source": [
    "## Evaluate te Model"
   ]
  },
  {
   "cell_type": "code",
   "execution_count": 33,
   "metadata": {
    "collapsed": false
   },
   "outputs": [
    {
     "name": "stdout",
     "output_type": "stream",
     "text": [
      "Accuracy: 0.946\n"
     ]
    }
   ],
   "source": [
    "# Check model accuracy on test set\n",
    "print \"Accuracy: %0.3f\" % lm.score(X_test, y_test)"
   ]
  },
  {
   "cell_type": "code",
   "execution_count": 34,
   "metadata": {
    "collapsed": false
   },
   "outputs": [
    {
     "data": {
      "image/png": "[encoded data removed]",
      "text/plain": [
       "<matplotlib.figure.Figure at 0x1484b5150>"
      ]
     },
     "metadata": {},
     "output_type": "display_data"
    },
    {
     "name": "stdout",
     "output_type": "stream",
     "text": [
      "Confusion Matrix:\n",
      "[[7941    6]\n",
      " [ 444   14]]\n"
     ]
    }
   ],
   "source": [
    "# Get confusion matrix on test set\n",
    "y_pred = lm.predict(X_test)\n",
    "cm = metrics.confusion_matrix(y_test, y_pred)\n",
    "cm_normalized = cm.astype('float') / cm.sum(axis=1)[:, np.newaxis]\n",
    "\n",
    "ax = plt.axes()\n",
    "sns.heatmap(cm_normalized, annot=True)\n",
    "ax.set_ylabel('True')\n",
    "ax.set_xlabel('Pred')\n",
    "plt.show()\n",
    "\n",
    "print \"Confusion Matrix:\"\n",
    "print cm"
   ]
  },
  {
   "cell_type": "code",
   "execution_count": 35,
   "metadata": {
    "collapsed": false
   },
   "outputs": [
    {
     "data": {
      "image/png": "[encoded data removed]",
      "text/plain": [
       "<matplotlib.figure.Figure at 0x1484b5b90>"
      ]
     },
     "metadata": {},
     "output_type": "display_data"
    },
    {
     "name": "stdout",
     "output_type": "stream",
     "text": [
      "ROC AUC: 0.802\n"
     ]
    }
   ],
   "source": [
    "# Plot ROC curve and get AUC score\n",
    "y_pred_proba = lm.predict_proba(X_test)[:,1]\n",
    "\n",
    "# Determine the false positive and true positive rates\n",
    "fpr, tpr, t = metrics.roc_curve(y_test, y_pred_proba)\n",
    "\n",
    " \n",
    "# Plot of a ROC curve for a specific class\n",
    "plt.figure()\n",
    "plt.plot(fpr, tpr)\n",
    "plt.xlabel(\"False Positive Rate\")\n",
    "plt.ylabel(\"True Positive Rate\")\n",
    "plt.title(\"ROC Curve\")\n",
    "plt.show()\n",
    "\n",
    "# Get ROC AUC score\n",
    "print 'ROC AUC: %0.3f' % metrics.roc_auc_score(y_test, y_pred_proba)"
   ]
  },
  {
   "cell_type": "markdown",
   "metadata": {},
   "source": [
    "## Tune the model"
   ]
  },
  {
   "cell_type": "code",
   "execution_count": 36,
   "metadata": {
    "collapsed": false
   },
   "outputs": [
    {
     "data": {
      "text/plain": [
       "GridSearchCV(cv=None, error_score='raise',\n",
       "       estimator=LogisticRegression(C=1.0, class_weight=None, dual=False, fit_intercept=True,\n",
       "          intercept_scaling=1, max_iter=100, multi_class='ovr', n_jobs=1,\n",
       "          penalty='l2', random_state=None, solver='liblinear', tol=0.0001,\n",
       "          verbose=0, warm_start=False),\n",
       "       fit_params={}, iid=True, n_jobs=1,\n",
       "       param_grid={'C': [0.001, 0.01, 0.1, 1, 10, 100, 1000], 'solver': ['newton-cg', 'lbfgs', 'liblinear', 'sag']},\n",
       "       pre_dispatch='2*n_jobs', refit=True, scoring=None, verbose=0)"
      ]
     },
     "execution_count": 36,
     "metadata": {},
     "output_type": "execute_result"
    }
   ],
   "source": [
    "# Set list of values to grid search over\n",
    "c = [0.001, 0.01, 0.1, 1, 10, 100, 1000]\n",
    "s = ['newton-cg', 'lbfgs', 'liblinear', 'sag']\n",
    "params = {'C': c, 'solver':s}\n",
    "\n",
    "# Perform grid search using list of values\n",
    "gs = grid_search.GridSearchCV(\n",
    "    estimator=linear_model.LogisticRegression(),\n",
    "    param_grid=params)\n",
    "gs.fit(X_train, y_train)\n",
    "\n",
    "# Get best value to use\n",
    "#print \"Best Params:\"\n",
    "#print gs.best_params_\n",
    "\n",
    "# Get improvement\n",
    "#print \"Accuracy of current model: %0.3f\" % lm.score(X_test, y_test)\n",
    "#print \"Accuracy using best param: %0.3f\" % gs.best_score_"
   ]
  },
  {
   "cell_type": "code",
   "execution_count": 37,
   "metadata": {
    "collapsed": false
   },
   "outputs": [
    {
     "name": "stdout",
     "output_type": "stream",
     "text": [
      "Best Params:\n",
      "{'C': 0.1, 'solver': 'liblinear'}\n",
      "Accuracy of current model: 0.946\n",
      "Accuracy using best param: 0.949\n"
     ]
    }
   ],
   "source": [
    "# Get best value to use\n",
    "print \"Best Params:\"\n",
    "print gs.best_params_\n",
    "\n",
    "# Get improvement\n",
    "print \"Accuracy of current model: %0.3f\" % lm.score(X_test, y_test)\n",
    "print \"Accuracy using best param: %0.3f\" % gs.best_score_"
   ]
  },
  {
   "cell_type": "markdown",
   "metadata": {},
   "source": [
    "## Update parameters"
   ]
  },
  {
   "cell_type": "code",
   "execution_count": 38,
   "metadata": {
    "collapsed": false
   },
   "outputs": [
    {
     "name": "stdout",
     "output_type": "stream",
     "text": [
      "LogisticRegression(C=1.0, class_weight=None, dual=False, fit_intercept=True,\n",
      "          intercept_scaling=1, max_iter=100, multi_class='ovr', n_jobs=1,\n",
      "          penalty='l2', random_state=None, solver='liblinear', tol=0.0001,\n",
      "          verbose=0, warm_start=False)\n",
      "Accuracy of current model: 0.946\n",
      "LogisticRegression(C=0.1, class_weight=None, dual=False, fit_intercept=True,\n",
      "          intercept_scaling=1, max_iter=100, multi_class='ovr', n_jobs=1,\n",
      "          penalty='l2', random_state=None, solver='newton-cg', tol=0.0001,\n",
      "          verbose=0, warm_start=False)\n",
      "Accuracy of updated model: 0.946\n"
     ]
    }
   ],
   "source": [
    "# Current model params\n",
    "print lm\n",
    "print \"Accuracy of current model: %0.3f\" % lm.score(X_test, y_test)\n",
    "\n",
    "# Update model params\n",
    "lm.set_params(C=0.1)\n",
    "lm.set_params(solver='newton-cg')\n",
    "\n",
    "# Retrain model on new params\n",
    "lm.fit(X_train, y_train)\n",
    "\n",
    "# Updated model params\n",
    "print lm\n",
    "print \"Accuracy of updated model: %0.3f\" % lm.score(X_test, y_test)"
   ]
  },
  {
   "cell_type": "markdown",
   "metadata": {
    "collapsed": true
   },
   "source": [
    "## Present the Results"
   ]
  },
  {
   "cell_type": "code",
   "execution_count": 39,
   "metadata": {
    "collapsed": false
   },
   "outputs": [
    {
     "data": {
      "text/html": [
       "<div>\n",
       "<table border=\"1\" class=\"dataframe\">\n",
       "  <thead>\n",
       "    <tr style=\"text-align: right;\">\n",
       "      <th></th>\n",
       "      <th>Block</th>\n",
       "      <th>Latitude</th>\n",
       "      <th>Longitude</th>\n",
       "      <th>AddressAccuracy</th>\n",
       "      <th>NumMosquitos</th>\n",
       "      <th>WnvPresent</th>\n",
       "      <th>Station</th>\n",
       "      <th>Tmax</th>\n",
       "      <th>Tmin</th>\n",
       "      <th>Tavg</th>\n",
       "      <th>...</th>\n",
       "      <th>Trap_T230</th>\n",
       "      <th>Trap_T231</th>\n",
       "      <th>Trap_T232</th>\n",
       "      <th>Trap_T233</th>\n",
       "      <th>Trap_T235</th>\n",
       "      <th>Trap_T236</th>\n",
       "      <th>Trap_T237</th>\n",
       "      <th>Trap_T238</th>\n",
       "      <th>Trap_T900</th>\n",
       "      <th>Trap_T903</th>\n",
       "    </tr>\n",
       "  </thead>\n",
       "  <tbody>\n",
       "    <tr>\n",
       "      <th>0</th>\n",
       "      <td>41</td>\n",
       "      <td>41.954690</td>\n",
       "      <td>-87.800991</td>\n",
       "      <td>9</td>\n",
       "      <td>1</td>\n",
       "      <td>0</td>\n",
       "      <td>1</td>\n",
       "      <td>88</td>\n",
       "      <td>60</td>\n",
       "      <td>74</td>\n",
       "      <td>...</td>\n",
       "      <td>0.0</td>\n",
       "      <td>0.0</td>\n",
       "      <td>0.0</td>\n",
       "      <td>0.0</td>\n",
       "      <td>0.0</td>\n",
       "      <td>0.0</td>\n",
       "      <td>0.0</td>\n",
       "      <td>0.0</td>\n",
       "      <td>0.0</td>\n",
       "      <td>0.0</td>\n",
       "    </tr>\n",
       "    <tr>\n",
       "      <th>1</th>\n",
       "      <td>41</td>\n",
       "      <td>41.954690</td>\n",
       "      <td>-87.800991</td>\n",
       "      <td>9</td>\n",
       "      <td>1</td>\n",
       "      <td>0</td>\n",
       "      <td>2</td>\n",
       "      <td>88</td>\n",
       "      <td>65</td>\n",
       "      <td>77</td>\n",
       "      <td>...</td>\n",
       "      <td>0.0</td>\n",
       "      <td>0.0</td>\n",
       "      <td>0.0</td>\n",
       "      <td>0.0</td>\n",
       "      <td>0.0</td>\n",
       "      <td>0.0</td>\n",
       "      <td>0.0</td>\n",
       "      <td>0.0</td>\n",
       "      <td>0.0</td>\n",
       "      <td>0.0</td>\n",
       "    </tr>\n",
       "    <tr>\n",
       "      <th>2</th>\n",
       "      <td>41</td>\n",
       "      <td>41.954690</td>\n",
       "      <td>-87.800991</td>\n",
       "      <td>9</td>\n",
       "      <td>1</td>\n",
       "      <td>0</td>\n",
       "      <td>1</td>\n",
       "      <td>88</td>\n",
       "      <td>60</td>\n",
       "      <td>74</td>\n",
       "      <td>...</td>\n",
       "      <td>0.0</td>\n",
       "      <td>0.0</td>\n",
       "      <td>0.0</td>\n",
       "      <td>0.0</td>\n",
       "      <td>0.0</td>\n",
       "      <td>0.0</td>\n",
       "      <td>0.0</td>\n",
       "      <td>0.0</td>\n",
       "      <td>0.0</td>\n",
       "      <td>0.0</td>\n",
       "    </tr>\n",
       "    <tr>\n",
       "      <th>3</th>\n",
       "      <td>41</td>\n",
       "      <td>41.954690</td>\n",
       "      <td>-87.800991</td>\n",
       "      <td>9</td>\n",
       "      <td>1</td>\n",
       "      <td>0</td>\n",
       "      <td>2</td>\n",
       "      <td>88</td>\n",
       "      <td>65</td>\n",
       "      <td>77</td>\n",
       "      <td>...</td>\n",
       "      <td>0.0</td>\n",
       "      <td>0.0</td>\n",
       "      <td>0.0</td>\n",
       "      <td>0.0</td>\n",
       "      <td>0.0</td>\n",
       "      <td>0.0</td>\n",
       "      <td>0.0</td>\n",
       "      <td>0.0</td>\n",
       "      <td>0.0</td>\n",
       "      <td>0.0</td>\n",
       "    </tr>\n",
       "    <tr>\n",
       "      <th>4</th>\n",
       "      <td>62</td>\n",
       "      <td>41.994991</td>\n",
       "      <td>-87.769279</td>\n",
       "      <td>9</td>\n",
       "      <td>1</td>\n",
       "      <td>0</td>\n",
       "      <td>1</td>\n",
       "      <td>88</td>\n",
       "      <td>60</td>\n",
       "      <td>74</td>\n",
       "      <td>...</td>\n",
       "      <td>0.0</td>\n",
       "      <td>0.0</td>\n",
       "      <td>0.0</td>\n",
       "      <td>0.0</td>\n",
       "      <td>0.0</td>\n",
       "      <td>0.0</td>\n",
       "      <td>0.0</td>\n",
       "      <td>0.0</td>\n",
       "      <td>0.0</td>\n",
       "      <td>0.0</td>\n",
       "    </tr>\n",
       "  </tbody>\n",
       "</table>\n",
       "<p>5 rows × 574 columns</p>\n",
       "</div>"
      ],
      "text/plain": [
       "   Block   Latitude  Longitude  AddressAccuracy  NumMosquitos  WnvPresent  \\\n",
       "0     41  41.954690 -87.800991                9             1           0   \n",
       "1     41  41.954690 -87.800991                9             1           0   \n",
       "2     41  41.954690 -87.800991                9             1           0   \n",
       "3     41  41.954690 -87.800991                9             1           0   \n",
       "4     62  41.994991 -87.769279                9             1           0   \n",
       "\n",
       "   Station  Tmax  Tmin  Tavg    ...      Trap_T230  Trap_T231  Trap_T232  \\\n",
       "0        1    88    60    74    ...            0.0        0.0        0.0   \n",
       "1        2    88    65    77    ...            0.0        0.0        0.0   \n",
       "2        1    88    60    74    ...            0.0        0.0        0.0   \n",
       "3        2    88    65    77    ...            0.0        0.0        0.0   \n",
       "4        1    88    60    74    ...            0.0        0.0        0.0   \n",
       "\n",
       "   Trap_T233  Trap_T235  Trap_T236  Trap_T237  Trap_T238  Trap_T900  Trap_T903  \n",
       "0        0.0        0.0        0.0        0.0        0.0        0.0        0.0  \n",
       "1        0.0        0.0        0.0        0.0        0.0        0.0        0.0  \n",
       "2        0.0        0.0        0.0        0.0        0.0        0.0        0.0  \n",
       "3        0.0        0.0        0.0        0.0        0.0        0.0        0.0  \n",
       "4        0.0        0.0        0.0        0.0        0.0        0.0        0.0  \n",
       "\n",
       "[5 rows x 574 columns]"
      ]
     },
     "execution_count": 39,
     "metadata": {},
     "output_type": "execute_result"
    }
   ],
   "source": [
    "# load data\n",
    "EDA.final_numeric_data.head()"
   ]
  },
  {
   "cell_type": "code",
   "execution_count": 40,
   "metadata": {
    "collapsed": true
   },
   "outputs": [],
   "source": [
    "df_train = EDA.final_numeric_data"
   ]
  },
  {
   "cell_type": "code",
   "execution_count": 41,
   "metadata": {
    "collapsed": true
   },
   "outputs": [],
   "source": [
    "# Set target variable name\n",
    "target = 'WnvPresent'\n",
    "\n",
    "# Set X_train and y_train\n",
    "X_train = df_train.drop([target], axis=1)\n",
    "y_train = df_train[target]"
   ]
  },
  {
   "cell_type": "code",
   "execution_count": 43,
   "metadata": {
    "collapsed": false
   },
   "outputs": [
    {
     "name": "stdout",
     "output_type": "stream",
     "text": [
      "Accuracy: 0.948\n"
     ]
    }
   ],
   "source": [
    "# Build tuned model \n",
    "\n",
    "lm = linear_model.LogisticRegression(C=0.1, class_weight=None, dual=False, fit_intercept=True,\n",
    "          intercept_scaling=1, max_iter=100, multi_class='ovr', n_jobs=1,\n",
    "          penalty='l2', random_state=None, solver='newton-cg', tol=0.0001,\n",
    "          verbose=0, warm_start=False)\n",
    "\n",
    "# Train tuned model\n",
    "lm.fit(X_train, y_train)\n",
    "\n",
    "# Score tuned model\n",
    "print \"Accuracy: %0.3f\" % lm.score(X_train, y_train)"
   ]
  },
  {
   "cell_type": "markdown",
   "metadata": {},
   "source": [
    "## Use trained model to generate a few summary findings"
   ]
  },
  {
   "cell_type": "code",
   "execution_count": 44,
   "metadata": {
    "collapsed": true
   },
   "outputs": [],
   "source": [
    "# Generate probabililty of virus present using trained model \n",
    "df_train['Probability'] = lm.predict_proba(X_train)[:,1]"
   ]
  },
  {
   "cell_type": "code",
   "execution_count": 55,
   "metadata": {
    "collapsed": false
   },
   "outputs": [
    {
     "data": {
      "text/plain": [
       "[<matplotlib.text.Text at 0x11d413590>]"
      ]
     },
     "execution_count": 55,
     "metadata": {},
     "output_type": "execute_result"
    },
    {
     "data": {
      "image/png": "[encoded data removed]",
      "text/plain": [
       "<matplotlib.figure.Figure at 0x117a61110>"
      ]
     },
     "metadata": {},
     "output_type": "display_data"
    }
   ],
   "source": [
    "# Plot Probability of virus present based on temperature and heat\n",
    "ax = df_train[df_train['Heat']==0].plot(x='Tavg', y='Probability', kind='scatter', color='b', label='0')\n",
    "df_train[df_train['Heat']==1].plot(ax=ax, x='Tavg', y='Probability', kind='scatter', color='m', label='1')\n",
    "df_train[df_train['Heat']==2].plot(ax=ax, x='Tavg', y='Probability', kind='scatter', color='r', label='2')\n",
    "df_train[df_train['Heat']==3].plot(ax=ax, x='Tavg', y='Probability', kind='scatter', color='g', label='3')\n",
    "df_train[df_train['Heat']==4].plot(ax=ax, x='Tavg', y='Probability', kind='scatter', color='y', label='4')\n",
    "df_train[df_train['Heat']==5].plot(ax=ax, x='Tavg', y='Probability', kind='scatter', color='b', label='5')\n",
    "ax.set(title='Probability of Virus Present Based on Heat and Temperature')"
   ]
  },
  {
   "cell_type": "code",
   "execution_count": 56,
   "metadata": {
    "collapsed": false
   },
   "outputs": [
    {
     "data": {
      "text/plain": [
       "<seaborn.axisgrid.FacetGrid at 0x11a73b650>"
      ]
     },
     "execution_count": 56,
     "metadata": {},
     "output_type": "execute_result"
    },
    {
     "data": {
      "image/png": "[encoded data removed]",
      "text/plain": [
       "<matplotlib.figure.Figure at 0x11ccb6c50>"
      ]
     },
     "metadata": {},
     "output_type": "display_data"
    }
   ],
   "source": [
    "# Plot Probability of virus present based on Pclass and Age\n",
    "sns.lmplot(x=\"Tavg\", y=\"Probability\", data=df_train)"
   ]
  },
  {
   "cell_type": "code",
   "execution_count": null,
   "metadata": {
    "collapsed": true
   },
   "outputs": [],
   "source": []
  }
 ],
 "metadata": {
  "kernelspec": {
   "display_name": "Python 2",
   "language": "python",
   "name": "python2"
  },
  "language_info": {
   "codemirror_mode": {
    "name": "ipython",
    "version": 2
   },
   "file_extension": ".py",
   "mimetype": "text/x-python",
   "name": "python",
   "nbconvert_exporter": "python",
   "pygments_lexer": "ipython2",
   "version": "2.7.11"
  }
 },
 "nbformat": 4,
 "nbformat_minor": 0
}
