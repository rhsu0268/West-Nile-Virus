{
 "cells": [
  {
   "cell_type": "markdown",
   "metadata": {},
   "source": [
    "# Random Forest "
   ]
  },
  {
   "cell_type": "markdown",
   "metadata": {},
   "source": [
    "Richard Hsu 7-23-16"
   ]
  },
  {
   "cell_type": "code",
   "execution_count": 2,
   "metadata": {
    "collapsed": true
   },
   "outputs": [],
   "source": [
    "import io, os, sys, types\n",
    "from sklearn import cross_validation\n",
    "from sklearn import neighbors\n",
    "from sklearn import grid_search\n",
    "from sklearn import metrics\n",
    "from sklearn import linear_model\n",
    "\n",
    "import numpy as np\n",
    "import pandas as pd\n",
    "\n",
    "import seaborn as sns\n",
    "import matplotlib.pyplot as plt\n",
    "sns.set(style=\"whitegrid\", font_scale=1)\n",
    "%matplotlib inline"
   ]
  },
  {
   "cell_type": "code",
   "execution_count": 3,
   "metadata": {
    "collapsed": true
   },
   "outputs": [],
   "source": [
    "import nbformat\n",
    "\n",
    "from IPython import get_ipython\n",
    "from IPython.core.interactiveshell import InteractiveShell"
   ]
  },
  {
   "cell_type": "code",
   "execution_count": 4,
   "metadata": {
    "collapsed": true
   },
   "outputs": [],
   "source": [
    "def find_notebook(fullname, path=None):\n",
    "    \"\"\"find a notebook, given its fully qualified name and an optional path\n",
    "    \n",
    "    This turns \"foo.bar\" into \"foo/bar.ipynb\"\n",
    "    and tries turning \"Foo_Bar\" into \"Foo Bar\" if Foo_Bar\n",
    "    does not exist.\n",
    "    \"\"\"\n",
    "    name = fullname.rsplit('.', 1)[-1]\n",
    "    if not path:\n",
    "        path = ['']\n",
    "    for d in path:\n",
    "        nb_path = os.path.join(d, name + \".ipynb\")\n",
    "        if os.path.isfile(nb_path):\n",
    "            return nb_path\n",
    "        # let import Notebook_Name find \"Notebook Name.ipynb\"\n",
    "        nb_path = nb_path.replace(\"_\", \" \")\n",
    "        if os.path.isfile(nb_path):\n",
    "            return nb_path"
   ]
  },
  {
   "cell_type": "code",
   "execution_count": 5,
   "metadata": {
    "collapsed": true
   },
   "outputs": [],
   "source": [
    "class NotebookLoader(object):\n",
    "    \"\"\"Module Loader for IPython Notebooks\"\"\"\n",
    "    def __init__(self, path=None):\n",
    "        self.shell = InteractiveShell.instance()\n",
    "        self.path = path\n",
    "    \n",
    "    def load_module(self, fullname):\n",
    "        \"\"\"import a notebook as a module\"\"\"\n",
    "        path = find_notebook(fullname, self.path)\n",
    "        \n",
    "        print (\"importing notebook from %s\" % path)\n",
    "                                       \n",
    "        # load the notebook object\n",
    "        nb = nbformat.read(path, as_version=4)\n",
    "        \n",
    "        \n",
    "        # create the module and add it to sys.modules\n",
    "        # if name in sys.modules:\n",
    "        #    return sys.modules[name]\n",
    "        mod = types.ModuleType(fullname)\n",
    "        mod.__file__ = path\n",
    "        mod.__loader__ = self\n",
    "        mod.__dict__['get_ipython'] = get_ipython\n",
    "        sys.modules[fullname] = mod\n",
    "        \n",
    "        # extra work to ensure that magics that would affect the user_ns\n",
    "        # actually affect the notebook module's ns\n",
    "        save_user_ns = self.shell.user_ns\n",
    "        self.shell.user_ns = mod.__dict__\n",
    "        \n",
    "        try:\n",
    "          for cell in nb.cells:\n",
    "            if cell.cell_type == 'code':\n",
    "                # transform the input to executable Python\n",
    "                code = self.shell.input_transformer_manager.transform_cell(cell.source)\n",
    "                # run the code in themodule\n",
    "                exec(code, mod.__dict__)\n",
    "        finally:\n",
    "            self.shell.user_ns = save_user_ns\n",
    "        return mod"
   ]
  },
  {
   "cell_type": "code",
   "execution_count": 6,
   "metadata": {
    "collapsed": true
   },
   "outputs": [],
   "source": [
    "class NotebookFinder(object):\n",
    "    \"\"\"Module finder that locates IPython Notebooks\"\"\"\n",
    "    def __init__(self):\n",
    "        self.loaders = {}\n",
    "    \n",
    "    def find_module(self, fullname, path=None):\n",
    "        nb_path = find_notebook(fullname, path)\n",
    "        if not nb_path:\n",
    "            return\n",
    "        \n",
    "        key = path\n",
    "        if path:\n",
    "            # lists aren't hashable\n",
    "            key = os.path.sep.join(path)\n",
    "        \n",
    "        if key not in self.loaders:\n",
    "            self.loaders[key] = NotebookLoader(path)\n",
    "        return self.loaders[key]"
   ]
  },
  {
   "cell_type": "code",
   "execution_count": 7,
   "metadata": {
    "collapsed": true
   },
   "outputs": [],
   "source": [
    "sys.meta_path.append(NotebookFinder())"
   ]
  },
  {
   "cell_type": "code",
   "execution_count": 8,
   "metadata": {
    "collapsed": false
   },
   "outputs": [
    {
     "name": "stdout",
     "output_type": "stream",
     "text": [
      "importing notebook from EDA.ipynb\n",
      "['Station' 'Date' 'Tmax' 'Tmin' 'Tavg' 'Depart' 'DewPoint' 'WetBulb' 'Heat'\n",
      " 'Cool' 'Sunrise' 'Sunset' 'CodeSum' 'Depth' 'Water1' 'SnowFall'\n",
      " 'PrecipTotal' 'StnPressure' 'SeaLevel' 'ResultSpeed' 'ResultDir'\n",
      " 'AvgSpeed']\n",
      "Station        0\n",
      "Date           0\n",
      "Tmax           0\n",
      "Tmin           0\n",
      "Tavg           0\n",
      "Depart         0\n",
      "DewPoint       0\n",
      "WetBulb        0\n",
      "Heat           0\n",
      "Cool           0\n",
      "Sunrise        0\n",
      "Sunset         0\n",
      "CodeSum        0\n",
      "Depth          0\n",
      "Water1         0\n",
      "SnowFall       0\n",
      "PrecipTotal    0\n",
      "StnPressure    0\n",
      "SeaLevel       0\n",
      "ResultSpeed    0\n",
      "ResultDir      0\n",
      "AvgSpeed       0\n",
      "dtype: int64\n",
      "Station          int64\n",
      "Date            object\n",
      "Tmax             int64\n",
      "Tmin             int64\n",
      "Tavg            object\n",
      "Depart          object\n",
      "DewPoint         int64\n",
      "WetBulb         object\n",
      "Heat            object\n",
      "Cool            object\n",
      "Sunrise         object\n",
      "Sunset          object\n",
      "CodeSum         object\n",
      "Depth           object\n",
      "Water1          object\n",
      "SnowFall        object\n",
      "PrecipTotal     object\n",
      "StnPressure     object\n",
      "SeaLevel        object\n",
      "ResultSpeed    float64\n",
      "ResultDir        int64\n",
      "AvgSpeed        object\n",
      "dtype: object\n",
      "Date           0\n",
      "Time         584\n",
      "Latitude       0\n",
      "Longitude      0\n",
      "dtype: int64\n",
      "There are missing values\n",
      "Missing values dropped\n",
      "Missing values:\n",
      "Date         0\n",
      "Time         0\n",
      "Latitude     0\n",
      "Longitude    0\n",
      "dtype: int64\n"
     ]
    },
    {
     "data": {
      "image/png": "[encoded data removed]",
      "text/plain": [
       "<matplotlib.figure.Figure at 0x116d37710>"
      ]
     },
     "metadata": {},
     "output_type": "display_data"
    },
    {
     "data": {
      "image/png": "[encoded data removed]",
      "text/plain": [
       "<matplotlib.figure.Figure at 0x116f23c90>"
      ]
     },
     "metadata": {},
     "output_type": "display_data"
    },
    {
     "name": "stdout",
     "output_type": "stream",
     "text": [
      "<pandas.core.groupby.DataFrameGroupBy object at 0x11a989050>\n"
     ]
    },
    {
     "data": {
      "image/png": "[encoded data removed]",
      "text/plain": [
       "<matplotlib.figure.Figure at 0x11a980cd0>"
      ]
     },
     "metadata": {},
     "output_type": "display_data"
    },
    {
     "data": {
      "image/png": "[encoded data removed]",
      "text/plain": [
       "<matplotlib.figure.Figure at 0x116d78f50>"
      ]
     },
     "metadata": {},
     "output_type": "display_data"
    },
    {
     "data": {
      "image/png": "[encoded data removed]",
      "text/plain": [
       "<matplotlib.figure.Figure at 0x1172e3050>"
      ]
     },
     "metadata": {},
     "output_type": "display_data"
    },
    {
     "name": "stdout",
     "output_type": "stream",
     "text": [
      "Numerical columns:\n",
      "set(['AddressNumberAndStreet_7900  S CHICAGO AVE, Chicago, IL', 'Street_ E 111TH ST', 'Street_ S CALIFORNIA', 'Trap_T081', 'Address_5800 North Pulaski Road, Chicago, IL 60646, USA', 'Trap_T083', 'Station', 'Trap_T085', 'Trap_T084', 'Trap_T086', 'AddressNumberAndStreet_1100  S STATE ST, Chicago, IL', 'Trap_T088', 'Address_6500 North Oak Park Avenue, Chicago, IL 60631, USA', 'Address_1100 Roosevelt Road, Chicago, IL 60608, USA', 'Tmin', 'Trap_T160', 'Trap_T161', 'Street_ W GRANVILLE AVE', 'StnPressure', 'AddressNumberAndStreet_1500  N LONG AVE, Chicago, IL', 'Street_ S AVENUE G', 'Street_ S CORNELL AVE', 'Address_3900 North Springfield Avenue, Chicago, IL 60618, USA', 'Street_ S AVENUE L', 'Street_ W GREENLEAF AVE', 'AddressNumberAndStreet_2100  S HAMLIN AVE, Chicago, IL', 'AddressNumberAndStreet_2500  S THROOP, Chicago, IL', 'Street_ W MONTROSE DR', 'Trap_T018', 'Trap_T019', 'Street_ S STONY ISLAND AVE', 'Trap_T012', 'Trap_T013', 'AddressNumberAndStreet_1300  S TORRENCE AVE, Chicago, IL', 'Trap_T011', 'Trap_T016', 'SeaLevel', 'Street_ E 67TH ST', 'Trap_T015', 'Trap_T082', 'Street_ N MCCLELLAN AVE', 'Sunrise', 'Street_ W OHARE', 'Street_ N OAKLEY AVE', 'Trap_T089', 'Street_ W 18TH ST', 'Address_South Mackinaw Avenue, Chicago, IL 60617, USA', 'NumMosquitos', 'Address_East 138th Street, Riverdale, IL 60827, USA', 'Address_9100 West Higgins Avenue, Chicago, IL 60656, USA', 'Address_4800 West Montana Street, Chicago, IL 60639, USA', 'Address_Ohare Court, Bensenville, IL 60106, USA', 'AddressNumberAndStreet_1100  S ASHLAND AVE, Chicago, IL', 'Street_ W 116TH ST', 'AddressNumberAndStreet_4200  N RICHMOND ST, Chicago, IL', 'AddressNumberAndStreet_9800  S AVENUE G, Chicago, IL', 'Heat', 'Address_South Wallace Street, Chicago, IL, USA', 'Address_7700 South Eberhart Avenue, Chicago, IL 60619, USA', 'Address_1500 West Webster Avenue, Chicago, IL 60614, USA', 'Address_2400 East 105th Street, Chicago, IL 60617, USA', 'Street_ W STRONG ST', 'AddressNumberAndStreet_4200  W 127TH PL, Chicago, IL', 'Address_1800 West Farwell Avenue, Chicago, IL 60626, USA', 'Street_ E 118TH ST', 'Street_ S WALLACE ST', 'Street_ N MOSELL AVE', 'Address_3300 West 104th Street, Chicago, IL 60655, USA', 'Address_4900 West Balmoral Avenue, Chicago, IL 60630, USA', 'Street_ W ROOSEVELT', 'AddressNumberAndStreet_3600  N PITTSBURGH AVE, Chicago, IL', 'AddressNumberAndStreet_5200  W 63RD ST, Chicago, IL', 'AddressNumberAndStreet_3900  N SPRINGFIELD AVE, Chicago, IL', 'AddressNumberAndStreet_1100  S WALLACE ST, Chicago, IL', 'AddressNumberAndStreet_8200  S KOSTNER AVE, Chicago, IL', 'Street_ S CHICAGO AVE', 'Street_ N CANNON DR', 'Trap_T080', 'Species_CULEX PIPIENS', 'Street_ N MILWAUKEE AVE', 'Address_6200 North Mcclellan Avenue, Chicago, IL 60646, USA', 'AddressNumberAndStreet_4900  W SUNNYSIDE AVE, Chicago, IL', 'AddressNumberAndStreet_3300  N RUTHERFORD AVE, Chicago, IL', 'Trap_T209', 'Trap_T150', 'AddressNumberAndStreet_1000  W 95TH ST, Chicago, IL', 'Trap_T200', 'Trap_T206', 'AddressNumberAndStreet_4200  W 65TH ST, Chicago, IL', 'Address_5200 South Kolmar Avenue, Chicago, IL 60632, USA', 'AddressNumberAndStreet_5300  N STREETER DR, Chicago, IL', 'AddressNumberAndStreet_4100  N OAK PARK AVE, Chicago, IL', 'Address_1000 South California Avenue, Chicago, IL 60612, USA', 'Street_ S ARTESIAN AVE', 'AddressNumberAndStreet_4300  N ASHLAND AVE OVERPASS, Chicago, IL', 'Address_5100 North Mont Clare Avenue, Chicago, IL 60656, USA', 'Street_ N PITTSBURGH AVE', 'Address_1700 West 95th Street, Chicago, IL 60643, USA', 'AddressNumberAndStreet_2100  N STAVE ST, Chicago, IL', 'Street_ W CHICAGO', 'Species_CULEX TARSALIS', 'Trap_T054', 'Trap_T050', 'Trap_T051', 'Trap_T115', 'Trap_T114', 'AddressNumberAndStreet_4000  S DEARBORN ST, Chicago, IL', 'Address_1700 West Addison Street, Chicago, IL 60613, USA', 'Street_ N RIDGE AVE', 'AddressNumberAndStreet_3500  W 51ST ST, Chicago, IL', 'Street_ W 72ND ST', 'Street_ N ASHLAND AVE OVERPASS', 'AddressNumberAndStreet_1500  W GRANVILLE AVE, Chicago, IL', 'Address_7300 Cicero Avenue, Chicago, IL 60638, USA', 'Address_3000 West 18th Street, Chicago, IL 60608, USA', 'Street_ W MONTANA ST', 'Address_2800 North Francisco Avenue, Chicago, IL 60618, USA', 'Address_South Brandon Avenue, Chicago, IL 60617, USA', 'Street_ S DR MARTIN LUTHER KING JR DR', 'AddressNumberAndStreet_1000  W OHARE, Chicago, IL', 'Address_3300 North Rutherford Avenue, Chicago, IL 60634, USA', 'AddressNumberAndStreet_6100  N LEMONT AVE, Chicago, IL', 'Address_7900 West Foster Avenue, Chicago, IL 60656, USA', 'Street_ N OKETO AVE', 'Street_ W LELAND AVE', 'Address_East 91st Street, Chicago, IL, USA', 'AddressNumberAndStreet_1000  E 67TH ST, Chicago, IL', 'AddressNumberAndStreet_2900  W 85TH ST, Chicago, IL', 'Address_7500 North Oakley Avenue, Chicago, IL 60645, USA', 'AddressNumberAndStreet_1700  W 95TH ST, Chicago, IL', 'Street_ S THROOP', 'Address_Chicago, IL, USA', 'AddressNumberAndStreet_1100  W ROOSEVELT, Chicago, IL', 'AvgSpeed', 'Street_ N LARAMIE AVE', 'Street_  W ARMITAGE AVENUE', 'AddressNumberAndStreet_1000  S STONY ISLAND AVE, Chicago, IL', 'Address_4200 North Richmond Street, Chicago, IL 60618, USA', 'AddressNumberAndStreet_1100  S AVENUE L, Chicago, IL', 'Street_ W FARWELL AVE', 'Address_South Doty Avenue, Chicago, IL, USA', 'AddressNumberAndStreet_7900  W FOSTER AVE, Chicago, IL', 'AddressNumberAndStreet_6500  S RACINE AVE, Chicago, IL', 'WetBulb', 'AddressNumberAndStreet_2200  W 113TH ST, Chicago, IL', 'AddressNumberAndStreet_5500  S DR MARTIN LUTHER KING JR DR, Chicago, IL', 'Species_CULEX RESTUANS', 'AddressNumberAndStreet_9100  W HIGGINS AVE, Chicago, IL', 'AddressNumberAndStreet_7200  N OKETO AVE, Chicago, IL', 'Street_ S HOYNE AVE', 'Street_ W ADDISON ST', 'Street_ W 89TH ST', 'PrecipTotal', 'Address_8900 South Carpenter Street, Chicago, IL 60620, USA', 'Street_ W ROSCOE ST', 'AddressNumberAndStreet_6000  N AVONDALE AVE, Chicago, IL', 'AddressNumberAndStreet_2500  W GRAND AVE, Chicago, IL', 'AddressNumberAndStreet_1000  N CENTRAL PARK DR, Chicago, IL', 'Longitude', 'Trap_T092', 'Trap_T090', 'Trap_T091', 'Trap_T096', 'Trap_T097', 'Trap_T094', 'Trap_T095', 'Trap_T153', 'Trap_T152', 'Trap_T151', 'Street_ S DOTY AVE', 'Trap_T157', 'Trap_T156', 'Trap_T155', 'Street_ S SOUTH SHORE DR', 'Street_ W PERSHING RD', 'AddressNumberAndStreet_8000  S KEDZIE AVE, Chicago, IL', 'Address_6000 West Montrose Avenue, Chicago, IL 60634, USA', 'Address_1400 North Sacramento Avenue, Chicago, IL 60622, USA', 'AddressNumberAndStreet_1700  N ASHLAND AVE, Chicago, IL', 'Street_ N MONT CLARE AVE', 'AddressNumberAndStreet_4000  N TRIPP AVE, Chicago, IL', 'AddressNumberAndStreet_3700  N KEDVALE AVE, Chicago, IL', 'AddressNumberAndStreet_8100  E 91ST ST, Chicago, IL', 'Address_8900 South Muskegon Avenue, Chicago, IL 60617, USA', 'Street_ S CALIFORNIA AVE', 'Address_North Streeter Drive, Chicago, IL 60611, USA', 'Street_ W 77TH ST', 'Trap_T017', 'AddressNumberAndStreet_6000  W MONTROSE DR, Chicago, IL', 'Address_1100 South State Street, Chicago, IL 60605, USA', 'Trap_T014', 'Latitude', 'AddressNumberAndStreet_3400  W 77TH ST, Chicago, IL', 'Street_ S KOSTNER AVE', 'AddressNumberAndStreet_9600  S LONGWOOD DR, Chicago, IL', 'Trap_T028', 'AddressNumberAndStreet_1400  N HUMBOLDT DR, Chicago, IL', 'Trap_T025', 'Address_3500 West 51st Street, Chicago, IL 60632, USA', 'WnvPresent', 'Address_7100 North Harlem Avenue, Chicago, IL 60631, USA', 'Cool', 'Address_2100 North Lawler Avenue, Chicago, IL 60639, USA', 'Trap_T045', 'Address_5500 South Doctor Martin Luther King Junior Drive, Chicago, IL 60637, USA', 'Address_5000 South Union Avenue, Chicago, IL 60609, USA', 'Address_4500 North Campbell Avenue, Chicago, IL 60625, USA', 'Trap_T047', 'AddressNumberAndStreet_6200  N MANDELL AVE, Chicago, IL', 'Trap_T129', 'Address_6000 West Roscoe Street, Chicago, IL 60634, USA', 'ResultSpeed', 'AddressNumberAndStreet_7100  N HARLEM AVE, Chicago, IL', 'Block', 'AddressNumberAndStreet_6400  S STONY ISLAND AVE, Chicago, IL', 'AddressAccuracy', 'AddressNumberAndStreet_5800  N WESTERN AVE, Chicago, IL', 'Street_ S PEORIA ST', 'Street_ N MANDELL AVE', 'Address_3700 North Kedvale Avenue, Chicago, IL 60641, USA', 'AddressNumberAndStreet_2200  W 89TH ST, Chicago, IL', 'Address_1100 West Chicago Avenue, Chicago, IL 60642, USA', 'Address_2200 North Cannon Drive, Chicago, IL 60614, USA', 'Tavg', 'Street_ S EBERHART AVE', 'Street_ N RICHMOND ST', 'Address_9300 South Doctor Martin Luther King Junior Drive, Chicago, IL 60619, USA', 'Trap_T076', 'Street_ W WEBSTER AVE', 'Street_ W 127TH PL', 'AddressNumberAndStreet_6600  S KILPATRICK AVE, Chicago, IL', 'AddressNumberAndStreet_4000  E 130TH ST, Chicago, IL', 'Street_ S UNION AVE', 'Trap_T071', 'Address_South Stony Island Avenue, Chicago, IL, USA', 'Street_ S CICERO AVE', 'Date', 'AddressNumberAndStreet_3000  S HOYNE AVE, Chicago, IL', 'Street_ S HAMLIN AVE', 'Street_ S TORRENCE AVE', 'Street_ W 65TH ST', 'Address_West Garfield Boulevard, Chicago, IL, USA', 'AddressNumberAndStreet_3800  E 115TH ST, Chicago, IL', 'AddressNumberAndStreet_6100  S MELVINA AVE, Chicago, IL', 'Species_CULEX ERRATICUS', 'AddressNumberAndStreet_4200  W 31ST ST, Chicago, IL', 'Sunset', 'Trap_T219', 'Address_1500 North Long Avenue, Chicago, IL 60651, USA', 'Trap_T215', 'AddressNumberAndStreet_8900  S MUSKEGON AVE, Chicago, IL', 'Street_ W 31ST ST', 'Trap_T212', 'Address_7100 South South Shore Drive, Chicago, IL 60649, USA', 'Address_2700 South Western Avenue, Chicago, IL 60608, USA', 'Address_4200 West 65th Street, Chicago, IL 60621, USA', 'Street_ E 105TH ST', 'Address_7900 South South Chicago Avenue, Chicago, IL 60617, USA', 'Trap_T094B', 'Address_South Vincennes Avenue, Chicago, IL, USA', 'Street_ W GRAND AVE', 'Trap_T069', 'Trap_T145', 'Trap_T063', 'Trap_T062', 'Trap_T061', 'Trap_T060', 'Trap_T067', 'Trap_T066', 'Trap_T065', 'Trap_T100', 'Trap_T102', 'Trap_T103', 'Trap_T107', 'Address_1000 North Central Park Avenue, Chicago, IL 60651, USA', 'Species_CULEX TERRITANS', 'Street_ W GARFIELD BLVD', 'Address_4600 Milwaukee Avenue, Chicago, IL 60630, USA', 'Address_6700 South Kedzie Avenue, Chicago, IL 60629, USA', 'Trap_T142', 'Street_ E 138TH ST', 'AddressNumberAndStreet_5200  S NORDICA, Chicago, IL', 'Street_ W FULLERTON AVE', 'Trap_T225', 'Street_ S DEARBORN ST', 'Address_4700 South Cornell Avenue, Chicago, IL 60615, USA', 'Street_ S COTTAGE GROVE', 'AddressNumberAndStreet_8100  W 37TH PL., Chicago, IL', 'AddressNumberAndStreet_1100  S CALIFORNIA, Chicago, IL', 'Address_2900 West 85th Street, Chicago, IL 60652, USA', 'Depth', 'AddressNumberAndStreet_1100  S PEORIA ST, Chicago, IL', 'Street_ S MUSKEGON AVE', 'AddressNumberAndStreet_5800  N RIDGE AVE, Chicago, IL', 'Address_6100 South Melvina Avenue, Chicago, IL 60638, USA', 'Species_CULEX PIPIENS/RESTUANS', 'Address_1500 West Granville Avenue, Chicago, IL 60660, USA', 'Address_2500 West Grand Avenue, Chicago, IL 60654, USA', 'Address_1300 North Laramie Avenue, Chicago, IL 60651, USA', 'AddressNumberAndStreet_1000  S COTTAGE GROVE, Chicago, IL', 'Address_2100 South Hamlin Avenue, Chicago, IL 60623, USA', 'Street_ N FRANCISCO AVE', 'Address_1800 West Leland Avenue, Chicago, IL 60640, USA', 'Street_ S MELVINA AVE', 'Street_ W 51ST ST', 'AddressNumberAndStreet_1100  W CHICAGO, Chicago, IL', 'Street_ W 37TH PL.', 'AddressNumberAndStreet_3900  S ASHLAND AVE, Chicago, IL', 'Address_3800 North California Avenue, Chicago, IL 60618, USA', 'Address_6300 West 64th Street, Chicago, IL 60638, USA', 'Street_ S NORDICA', 'AddressNumberAndStreet_6500  N OAK PARK AVE, Chicago, IL', 'Street_ S BRANDON', 'AddressNumberAndStreet_1000  S VINCENNES, Chicago, IL', 'DewPoint', 'Address_6200 North Mandell Avenue, Chicago, IL 60646, USA', 'Species_CULEX SALINARIUS', 'Address_2100 North Cannon Drive, Chicago, IL 60614, USA', 'AddressNumberAndStreet_1200  W GREENLEAF AVE, Chicago, IL', 'AddressNumberAndStreet_5000  S CENTRAL AVE, Chicago, IL', 'Street_ E RANDOLPH ST', 'AddressNumberAndStreet_2100  N CANNON DR, Chicago, IL', 'Street_ S LONGWOOD DR', 'AddressNumberAndStreet_6800  W BELDEN AVE, Chicago, IL', 'AddressNumberAndStreet_5800  N PULASKI RD, Chicago, IL', 'AddressNumberAndStreet_1200  S DOTY AVE, Chicago, IL', 'Address_1100 North Artesian Avenue, Chicago, IL 60622, USA', 'Street_ W SUNNYSIDE AVE', 'Street_ N STAVE ST', 'Street_ N LEMONT AVE', 'AddressNumberAndStreet_3300  W 104TH ST, Chicago, IL', 'AddressNumberAndStreet_9300  S DR MARTIN LUTHER KING JR DR, Chicago, IL', 'Trap_T148', 'AddressNumberAndStreet_3500  W 116TH ST, Chicago, IL', 'Trap_T144', 'Address_1700 North Ashland Avenue, Chicago, IL 60622, USA', 'Trap_T146', 'Trap_T147', 'Trap_T141', 'Street_ N ASHLAND AVE', 'Trap_T143', 'AddressNumberAndStreet_3300  E RANDOLPH ST, Chicago, IL', 'AddressNumberAndStreet_1000  S CALIFORNIA AVE, Chicago, IL', 'Trap_T227', 'Trap_T226', 'Trap_T221', 'Trap_T220', 'Trap_T223', 'Trap_T222', 'AddressNumberAndStreet_1700  W ADDISON ST, Chicago, IL', 'AddressNumberAndStreet_3700  S PULASKI RD, Chicago, IL', 'Trap_T229', 'Trap_T228', 'Street_ S VINCENNES', 'Address_South Avenue L, Chicago, IL 60617, USA', 'Street_ W BELDEN AVE', 'AddressNumberAndStreet_2200  W 69TH ST, Chicago, IL', 'Address_5000 South Central Avenue, Chicago, IL 60638, USA', 'Address_3900 South Ashland Avenue, Chicago, IL 60609, USA', 'AddressNumberAndStreet_1100  S ARTESIAN AVE, Chicago, IL', 'Address_4000 North Tripp Avenue, Chicago, IL 60641, USA', 'Address_7000 North Moselle Avenue, Chicago, IL 60646, USA', 'Street_ W 85TH ST', 'Trap_T031', 'Trap_T033', 'Trap_T034', 'Street_ W 95TH ST', 'Trap_T036', 'Address_2100 North Stave Street, Chicago, IL 60647, USA', 'Trap_T039', 'AddressNumberAndStreet_9600  S HOYNE AVE, Chicago, IL', 'Trap_T135', 'AddressNumberAndStreet_7100  S SOUTH SHORE DR, Chicago, IL', 'AddressNumberAndStreet_1800  W LELAND AVE, Chicago, IL', 'Street_ N SPRINGFIELD AVE', 'Street_ N AVONDALE AVE', 'Address_3700 118th Street, Chicago, IL 60617, USA', 'AddressNumberAndStreet_7700  S EBERHART AVE, Chicago, IL', 'AddressNumberAndStreet_1500  W WEBSTER AVE, Chicago, IL', 'Address_2200 West 51st Street, Chicago, IL 60609, USA', 'Address_6800 West Belden Avenue, Chicago, IL 60707, USA', 'Address_University of Illinois at Chicago, 1100 South Ashland Avenue, Chicago, IL 60607, USA', 'Address_5100 West 72nd Street, Chicago, IL 60638, USA', 'Trap_T149', 'Street_ W OHARE AIRPORT', 'Street_ S STATE ST', 'Street_ N OAK PARK AVE', 'Address_6400 West Strong Street, Chicago, IL, USA', 'Street_ S PULASKI RD', 'Street_ E 91ST ST', 'AddressNumberAndStreet_8200  E 138TH ST, Chicago, IL', 'Trap_T128', 'Street_ S MILLARD AVE', 'Street_ W 63RD ST', 'Trap_T030', 'AddressNumberAndStreet_2700  S WESTERN AVE, Chicago, IL', 'Trap_T138', 'Trap_T054C', 'Street_ W 64TH ST', 'AddressNumberAndStreet_5100  W 72ND ST, Chicago, IL', 'Address_5200 South Nordica Avenue, Chicago, IL 60638, USA', 'AddressNumberAndStreet_6300  W 64TH ST, Chicago, IL', 'Street_ N STREETER DR', 'Address_South Torrence Avenue, Chicago, IL, USA', 'Address_1000 West 95th Street, Chicago, IL 60643, USA', 'Street_ W BALMORAL AVE', 'Depart', 'Water1', 'Address_1700 North Pulaski Road, Chicago, IL 60639, USA', 'Trap_T037', 'Address_West 37th Place, Chicago, IL, USA', 'Street_ E 130TH ST', 'Address_6400 South Stony Island Avenue, Chicago, IL 60637, USA', 'Address_7000 West Armitage Avenue, Chicago, IL 60707, USA', 'AddressNumberAndStreet_4500  N CAMPBELL AVE, Chicago, IL', 'Address_4200 West 127th Street, Alsip, IL 60803, USA', 'Address_6600 South Kilpatrick Avenue, Chicago, IL 60629, USA', 'Address_2000 East 111th Street, Chicago, IL 60628, USA', 'AddressNumberAndStreet_5100  N MONT CLARE AVE, Chicago, IL', 'Address_4100 North Oak Park Avenue, Chicago, IL 60634, USA', 'Street_ W AGATITE AVE', 'AddressNumberAndStreet_2800  N FRANCISCO AVE, Chicago, IL', 'Address_1100 South Peoria Street, Chicago, IL 60608, USA', 'Address_2500 South Throop Street, Chicago, IL 60608, USA', 'AddressNumberAndStreet_5000  S UNION AVE, Chicago, IL', 'Address_4900 West Sunnyside Avenue, Chicago, IL 60630, USA', 'AddressNumberAndStreet_1300  S BRANDON, Chicago, IL', 'Address_3400 West 77th Street, Chicago, IL 60652, USA', 'CodeSum', 'Address_3600 North Pittsburgh Avenue, Chicago, IL 60634, USA', 'AddressNumberAndStreet_4800  W MONTANA ST, Chicago, IL', 'SnowFall', 'Address_3500 West 116th Street, Chicago, IL 60655, USA', 'Address_4000 East 130th Street, Chicago, IL 60633, USA', 'Trap_T078', 'Trap_T079', 'AddressNumberAndStreet_7300  S CICERO AVE, Chicago, IL', 'Trap_T074', 'Trap_T075', 'Address_4200 West 31st Street, Chicago, IL 60623, USA', 'Trap_T077', 'Trap_T070', 'AddressNumberAndStreet_2200  W PERSHING RD, Chicago, IL', 'Street_ N CENTRAL PARK DR', 'Trap_T073', 'AddressNumberAndStreet_4000  N AUSTIN AVE, Chicago, IL', 'Address_4000 South Dearborn Street, Chicago, IL 60609, USA', 'Address_9100 West Higgins Road, Rosemont, IL 60018, USA', 'AddressNumberAndStreet_1300  S MACKINAW, Chicago, IL', 'Trap_T158', 'Street_ S MACKINAW', 'AddressNumberAndStreet_2400  E 105TH ST, Chicago, IL', 'Street_ W FOSTER AVE', 'AddressNumberAndStreet_5200  S KOLMAR, Chicago, IL', 'Trap_T009', 'Trap_T008', 'Street_ N AUSTIN AVE', 'Trap_T099', 'Address_2500 South Millard Avenue, Chicago, IL 60623, USA', 'Trap_T001', 'Address_6100 North Lemont Avenue, Chicago, IL 60646, USA', 'Trap_T003', 'Trap_T002', 'Trap_T005', 'Trap_T004', 'Trap_T007', 'Trap_T006', 'Street_ N TRIPP AVE', 'AddressNumberAndStreet_9100  W HIGGINS RD, Chicago, IL', 'Street_ S CENTRAL AVE', 'Trap_T218', 'Trap_T154', 'Street_ W 113TH ST', 'Address_East 91st Place, Chicago, IL, USA', 'Address_8000 South Kedzie Avenue, Chicago, IL 60652, USA', 'Tmax', 'Street_ S KILPATRICK AVE', 'Address_8200 South Kostner Avenue, Chicago, IL 60652, USA', 'Street_ N WESTERN AVE', 'Trap_T903', 'Street_ N HARLEM AVE', 'Street_ S ASHLAND AVE', 'AddressNumberAndStreet_8900  S CARPENTER ST, Chicago, IL', 'Street_ N CALIFORNIA AVE', 'AddressNumberAndStreet_2500  S MILLARD AVE, Chicago, IL', 'Address_6500 South Racine Avenue, Chicago, IL 60636, USA', 'Address_6100 West Fullerton Avenue, Chicago, IL 60639, USA', 'Street_ E 115TH ST', 'Address_5800 North Western Avenue, Chicago, IL 60659, USA', 'AddressNumberAndStreet_7000  N MOSELL AVE, Chicago, IL', 'AddressNumberAndStreet_2000  E 111TH ST, Chicago, IL', 'AddressNumberAndStreet_3000  W 18TH ST, Chicago, IL', 'AddressNumberAndStreet_2100  N LAWLER AVE, Chicago, IL', 'AddressNumberAndStreet_2200  N CANNON DR, Chicago, IL', 'AddressNumberAndStreet_6100  W FULLERTON AVE, Chicago, IL', 'Address_3800 East 115th Street, Chicago, IL 60617, USA', 'AddressNumberAndStreet_1800  W FARWELL AVE, Chicago, IL', 'Trap_T162', 'Street_ W 104TH ST', 'Address_1000 East 67th Street, Chicago, IL 60637, USA', 'Street_ W 69TH ST', 'Street_ S KOLMAR', 'Street_ S RACINE AVE', 'Address_2200 West Pershing Road, Chicago, IL 60609, USA', 'Trap_T236', 'Trap_T237', 'Trap_T235', 'Trap_T232', 'Trap_T233', 'Trap_T230', 'Trap_T231', \"Address_ORD Terminal 5, O'Hare International Airport, Chicago, IL 60666, USA\", 'AddressNumberAndStreet_6500  E 91ST PL, Chicago, IL', 'Trap_T238', 'Street_ E 91ST PL', 'AddressNumberAndStreet_1000  W OHARE AIRPORT, Chicago, IL', 'Street_ N CAMPBELL AVE', 'Trap_T224', 'Address_3000 South Hoyne Avenue, Chicago, IL 60608, USA', 'Street_ W HIGGINS RD', 'AddressNumberAndStreet_1700  N PULASKI RD, Chicago, IL', 'Street_ N HUMBOLDT DR', 'Address_2200 West 89th Street, Chicago, IL 60643, USA', 'AddressNumberAndStreet_6700  S KEDZIE AVE, Chicago, IL', 'Address_2200 West 69th Street, Chicago, IL 60636, USA', 'Trap_T044', 'Street_ S CARPENTER ST', 'Trap_T046', 'Trap_T040', 'Trap_T043', 'Address_3700 South Pulaski Road, Chicago, IL 60623, USA', 'Trap_T049', 'Trap_T048', 'Address_5300 West Agatite Avenue, Chicago, IL 60630, USA', 'Address_6000 North Avondale Avenue, Chicago, IL 60631, USA', 'Trap_T159', 'Address_3300 West Randolph Street, Chicago, IL 60612, USA', 'Street_ N KEDVALE AVE', 'Address_9800 South Avenue G, Chicago, IL 60617, USA', 'Address_1200 West Greenleaf Avenue, Chicago, IL 60626, USA', 'Street_ N LAWLER AVE', 'AddressNumberAndStreet_7000   W ARMITAGE AVENUE, Chicago, IL', 'AddressNumberAndStreet_1300  N LARAMIE AVE, Chicago, IL', 'AddressNumberAndStreet_4900  W BALMORAL AVE, Chicago, IL', 'Address_1100 South California Avenue, Chicago, IL 60612, USA', 'Trap_T035', 'AddressNumberAndStreet_4600  N MILWAUKEE AVE, Chicago, IL', 'AddressNumberAndStreet_3800  N CALIFORNIA AVE, Chicago, IL', 'Address_7200 North Oketo Avenue, Chicago, IL 60631, USA', 'AddressNumberAndStreet_4700  S CORNELL AVE, Chicago, IL', 'AddressNumberAndStreet_6000  W ROSCOE ST, Chicago, IL', 'AddressNumberAndStreet_6400  W STRONG ST, Chicago, IL', 'Address_9600 South Longwood Drive, Chicago, IL 60643, USA', 'Address_2200 West 113th Street, Chicago, IL 60643, USA', 'Address_9600 South Hoyne Avenue, Chicago, IL 60643, USA', 'Street_ S KEDZIE AVE', 'Trap_T900', 'Address_Chicago Midway International Airport (MDW), 5200 West 63rd Street, Chicago, IL 60638, USA', 'AddressNumberAndStreet_3700  E 118TH ST, Chicago, IL', 'Trap_T072', 'ResultDir', 'AddressNumberAndStreet_2200  W 51ST ST, Chicago, IL', 'Address_5800 North Ridge Avenue, Chicago, IL 60660, USA', 'Street_ N PULASKI RD', 'AddressNumberAndStreet_5300  W AGATITE AVE, Chicago, IL', 'Street_ W HIGGINS AVE', 'Street_ N RUTHERFORD AVE', 'Street_ N LONG AVE', 'Address_South Cottage Grove Avenue, Chicago, IL, USA', 'Address_4000 North Austin Avenue, Chicago, IL 60634, USA', 'Street_ S WESTERN AVE', 'AddressNumberAndStreet_6200  N MCCLELLAN AVE, Chicago, IL', 'AddressNumberAndStreet_9000  W GARFIELD BLVD, Chicago, IL', 'AddressNumberAndStreet_7500  N OAKLEY AVE, Chicago, IL', 'Trap_T027'])\n",
      "Non-numerical columns:\n",
      "set([])\n"
     ]
    }
   ],
   "source": [
    "import EDA"
   ]
  },
  {
   "cell_type": "code",
   "execution_count": 9,
   "metadata": {
    "collapsed": false
   },
   "outputs": [
    {
     "data": {
      "text/html": [
       "<div>\n",
       "<table border=\"1\" class=\"dataframe\">\n",
       "  <thead>\n",
       "    <tr style=\"text-align: right;\">\n",
       "      <th></th>\n",
       "      <th>Date</th>\n",
       "      <th>Address</th>\n",
       "      <th>Species</th>\n",
       "      <th>Block</th>\n",
       "      <th>Street</th>\n",
       "      <th>Trap</th>\n",
       "      <th>AddressNumberAndStreet</th>\n",
       "      <th>Latitude</th>\n",
       "      <th>Longitude</th>\n",
       "      <th>AddressAccuracy</th>\n",
       "      <th>...</th>\n",
       "      <th>CodeSum</th>\n",
       "      <th>Depth</th>\n",
       "      <th>Water1</th>\n",
       "      <th>SnowFall</th>\n",
       "      <th>PrecipTotal</th>\n",
       "      <th>StnPressure</th>\n",
       "      <th>SeaLevel</th>\n",
       "      <th>ResultSpeed</th>\n",
       "      <th>ResultDir</th>\n",
       "      <th>AvgSpeed</th>\n",
       "    </tr>\n",
       "  </thead>\n",
       "  <tbody>\n",
       "    <tr>\n",
       "      <th>0</th>\n",
       "      <td>2007-05-29</td>\n",
       "      <td>4100 North Oak Park Avenue, Chicago, IL 60634,...</td>\n",
       "      <td>CULEX PIPIENS/RESTUANS</td>\n",
       "      <td>41</td>\n",
       "      <td>N OAK PARK AVE</td>\n",
       "      <td>T002</td>\n",
       "      <td>4100  N OAK PARK AVE, Chicago, IL</td>\n",
       "      <td>41.954690</td>\n",
       "      <td>-87.800991</td>\n",
       "      <td>9</td>\n",
       "      <td>...</td>\n",
       "      <td>BR HZ</td>\n",
       "      <td>0</td>\n",
       "      <td>M</td>\n",
       "      <td>0.0</td>\n",
       "      <td>0.00</td>\n",
       "      <td>29.39</td>\n",
       "      <td>30.11</td>\n",
       "      <td>5.8</td>\n",
       "      <td>18</td>\n",
       "      <td>6.5</td>\n",
       "    </tr>\n",
       "    <tr>\n",
       "      <th>1</th>\n",
       "      <td>2007-05-29</td>\n",
       "      <td>4100 North Oak Park Avenue, Chicago, IL 60634,...</td>\n",
       "      <td>CULEX PIPIENS/RESTUANS</td>\n",
       "      <td>41</td>\n",
       "      <td>N OAK PARK AVE</td>\n",
       "      <td>T002</td>\n",
       "      <td>4100  N OAK PARK AVE, Chicago, IL</td>\n",
       "      <td>41.954690</td>\n",
       "      <td>-87.800991</td>\n",
       "      <td>9</td>\n",
       "      <td>...</td>\n",
       "      <td>BR HZ</td>\n",
       "      <td>M</td>\n",
       "      <td>M</td>\n",
       "      <td>M</td>\n",
       "      <td>0.00</td>\n",
       "      <td>29.44</td>\n",
       "      <td>30.09</td>\n",
       "      <td>5.8</td>\n",
       "      <td>16</td>\n",
       "      <td>7.4</td>\n",
       "    </tr>\n",
       "    <tr>\n",
       "      <th>2</th>\n",
       "      <td>2007-05-29</td>\n",
       "      <td>4100 North Oak Park Avenue, Chicago, IL 60634,...</td>\n",
       "      <td>CULEX RESTUANS</td>\n",
       "      <td>41</td>\n",
       "      <td>N OAK PARK AVE</td>\n",
       "      <td>T002</td>\n",
       "      <td>4100  N OAK PARK AVE, Chicago, IL</td>\n",
       "      <td>41.954690</td>\n",
       "      <td>-87.800991</td>\n",
       "      <td>9</td>\n",
       "      <td>...</td>\n",
       "      <td>BR HZ</td>\n",
       "      <td>0</td>\n",
       "      <td>M</td>\n",
       "      <td>0.0</td>\n",
       "      <td>0.00</td>\n",
       "      <td>29.39</td>\n",
       "      <td>30.11</td>\n",
       "      <td>5.8</td>\n",
       "      <td>18</td>\n",
       "      <td>6.5</td>\n",
       "    </tr>\n",
       "    <tr>\n",
       "      <th>3</th>\n",
       "      <td>2007-05-29</td>\n",
       "      <td>4100 North Oak Park Avenue, Chicago, IL 60634,...</td>\n",
       "      <td>CULEX RESTUANS</td>\n",
       "      <td>41</td>\n",
       "      <td>N OAK PARK AVE</td>\n",
       "      <td>T002</td>\n",
       "      <td>4100  N OAK PARK AVE, Chicago, IL</td>\n",
       "      <td>41.954690</td>\n",
       "      <td>-87.800991</td>\n",
       "      <td>9</td>\n",
       "      <td>...</td>\n",
       "      <td>BR HZ</td>\n",
       "      <td>M</td>\n",
       "      <td>M</td>\n",
       "      <td>M</td>\n",
       "      <td>0.00</td>\n",
       "      <td>29.44</td>\n",
       "      <td>30.09</td>\n",
       "      <td>5.8</td>\n",
       "      <td>16</td>\n",
       "      <td>7.4</td>\n",
       "    </tr>\n",
       "    <tr>\n",
       "      <th>4</th>\n",
       "      <td>2007-05-29</td>\n",
       "      <td>6200 North Mandell Avenue, Chicago, IL 60646, USA</td>\n",
       "      <td>CULEX RESTUANS</td>\n",
       "      <td>62</td>\n",
       "      <td>N MANDELL AVE</td>\n",
       "      <td>T007</td>\n",
       "      <td>6200  N MANDELL AVE, Chicago, IL</td>\n",
       "      <td>41.994991</td>\n",
       "      <td>-87.769279</td>\n",
       "      <td>9</td>\n",
       "      <td>...</td>\n",
       "      <td>BR HZ</td>\n",
       "      <td>0</td>\n",
       "      <td>M</td>\n",
       "      <td>0.0</td>\n",
       "      <td>0.00</td>\n",
       "      <td>29.39</td>\n",
       "      <td>30.11</td>\n",
       "      <td>5.8</td>\n",
       "      <td>18</td>\n",
       "      <td>6.5</td>\n",
       "    </tr>\n",
       "  </tbody>\n",
       "</table>\n",
       "<p>5 rows × 33 columns</p>\n",
       "</div>"
      ],
      "text/plain": [
       "         Date                                            Address  \\\n",
       "0  2007-05-29  4100 North Oak Park Avenue, Chicago, IL 60634,...   \n",
       "1  2007-05-29  4100 North Oak Park Avenue, Chicago, IL 60634,...   \n",
       "2  2007-05-29  4100 North Oak Park Avenue, Chicago, IL 60634,...   \n",
       "3  2007-05-29  4100 North Oak Park Avenue, Chicago, IL 60634,...   \n",
       "4  2007-05-29  6200 North Mandell Avenue, Chicago, IL 60646, USA   \n",
       "\n",
       "                  Species  Block           Street  Trap  \\\n",
       "0  CULEX PIPIENS/RESTUANS     41   N OAK PARK AVE  T002   \n",
       "1  CULEX PIPIENS/RESTUANS     41   N OAK PARK AVE  T002   \n",
       "2          CULEX RESTUANS     41   N OAK PARK AVE  T002   \n",
       "3          CULEX RESTUANS     41   N OAK PARK AVE  T002   \n",
       "4          CULEX RESTUANS     62    N MANDELL AVE  T007   \n",
       "\n",
       "              AddressNumberAndStreet   Latitude  Longitude  AddressAccuracy  \\\n",
       "0  4100  N OAK PARK AVE, Chicago, IL  41.954690 -87.800991                9   \n",
       "1  4100  N OAK PARK AVE, Chicago, IL  41.954690 -87.800991                9   \n",
       "2  4100  N OAK PARK AVE, Chicago, IL  41.954690 -87.800991                9   \n",
       "3  4100  N OAK PARK AVE, Chicago, IL  41.954690 -87.800991                9   \n",
       "4   6200  N MANDELL AVE, Chicago, IL  41.994991 -87.769279                9   \n",
       "\n",
       "    ...     CodeSum  Depth  Water1  SnowFall  PrecipTotal StnPressure  \\\n",
       "0   ...       BR HZ      0       M       0.0         0.00       29.39   \n",
       "1   ...       BR HZ      M       M         M         0.00       29.44   \n",
       "2   ...       BR HZ      0       M       0.0         0.00       29.39   \n",
       "3   ...       BR HZ      M       M         M         0.00       29.44   \n",
       "4   ...       BR HZ      0       M       0.0         0.00       29.39   \n",
       "\n",
       "  SeaLevel  ResultSpeed ResultDir AvgSpeed  \n",
       "0    30.11          5.8        18      6.5  \n",
       "1    30.09          5.8        16      7.4  \n",
       "2    30.11          5.8        18      6.5  \n",
       "3    30.09          5.8        16      7.4  \n",
       "4    30.11          5.8        18      6.5  \n",
       "\n",
       "[5 rows x 33 columns]"
      ]
     },
     "execution_count": 9,
     "metadata": {},
     "output_type": "execute_result"
    }
   ],
   "source": [
    "EDA.joined_data.head()"
   ]
  },
  {
   "cell_type": "code",
   "execution_count": 10,
   "metadata": {
    "collapsed": false
   },
   "outputs": [
    {
     "name": "stdout",
     "output_type": "stream",
     "text": [
      "Accuracy: 0.946\n",
      "ROC AUC: 0.680\n"
     ]
    }
   ],
   "source": [
    "from sklearn import tree\n",
    "\n",
    "# Set features to use\n",
    "features = ['Tavg', 'Heat'] \n",
    "\n",
    "# Set target variable name\n",
    "target = 'WnvPresent'\n",
    "\n",
    "# Set X and y\n",
    "X = EDA.joined_data[features]\n",
    "y = EDA.joined_data[target]\n",
    "\n",
    "# Create separate training and test sets with 60/40 train/test split\n",
    "X_train, X_test, y_train, y_test = cross_validation.train_test_split(X, y, test_size=0.4, random_state=42)\n",
    "\n",
    "# Instantiate model using default params\n",
    "tm = tree.DecisionTreeClassifier()\n",
    "\n",
    "# Train model on training set\n",
    "tm.fit(X_train, y_train)\n",
    "\n",
    "# Evaluate accuracy of model on test set\n",
    "print \"Accuracy: %0.3f\" % tm.score(X_test, y_test)\n",
    "\n",
    "# Evaluate ROC AUC score of model on test set\n",
    "print 'ROC AUC: %0.3f' % metrics.roc_auc_score(y_test, tm.predict_proba(X_test)[:,1])\n",
    "\n"
   ]
  },
  {
   "cell_type": "markdown",
   "metadata": {},
   "source": [
    "I got a great accuracy here with only two features. "
   ]
  },
  {
   "cell_type": "code",
   "execution_count": 11,
   "metadata": {
    "collapsed": false
   },
   "outputs": [
    {
     "data": {
      "image/png": "[encoded data removed]",
      "text/plain": [
       "<matplotlib.figure.Figure at 0x145d91690>"
      ]
     },
     "metadata": {},
     "output_type": "display_data"
    },
    {
     "name": "stdout",
     "output_type": "stream",
     "text": [
      "Confusion Matrix:\n",
      "[[7947    0]\n",
      " [ 458    0]]\n"
     ]
    }
   ],
   "source": [
    "# Get confusion matrix on test set\n",
    "y_pred = tm.predict(X_test)\n",
    "cm = metrics.confusion_matrix(y_test, y_pred)\n",
    "cm_normalized = cm.astype('float') / cm.sum(axis=1)[:, np.newaxis]\n",
    "\n",
    "ax = plt.axes()\n",
    "sns.heatmap(cm_normalized, annot=True)\n",
    "ax.set_ylabel('True')\n",
    "ax.set_xlabel('Pred')\n",
    "plt.show()\n",
    "\n",
    "print \"Confusion Matrix:\"\n",
    "print cm"
   ]
  },
  {
   "cell_type": "markdown",
   "metadata": {},
   "source": [
    "A heat map of the confusion matrix supports the strength of the model because we accurately predict what the actual value is almost all the time. This leads to some suspicions that the model is overfitting the data. "
   ]
  },
  {
   "cell_type": "markdown",
   "metadata": {},
   "source": [
    "## Check if the model is overfit by checking accuracy on training set vs test set"
   ]
  },
  {
   "cell_type": "markdown",
   "metadata": {},
   "source": [
    "### Check if the model is overfit by checking accuracy on training set vs test set"
   ]
  },
  {
   "cell_type": "code",
   "execution_count": 12,
   "metadata": {
    "collapsed": false
   },
   "outputs": [
    {
     "name": "stdout",
     "output_type": "stream",
     "text": [
      "Accuracy: 0.949\n",
      "Accuracy: 0.946\n"
     ]
    }
   ],
   "source": [
    "# Evaluate model on train set\n",
    "print \"Accuracy: %0.3f\" % tm.score(X_train, y_train)\n",
    "\n",
    "# Evaluate model on test set\n",
    "print \"Accuracy: %0.3f\" % tm.score(X_test, y_test)"
   ]
  },
  {
   "cell_type": "markdown",
   "metadata": {},
   "source": [
    "A close look at the accuracies of the training set and test set show that the accuracy are both relatively close to each other. This indicates that we are less likely to be overfitting. "
   ]
  },
  {
   "cell_type": "markdown",
   "metadata": {},
   "source": [
    "### Control for overfitting in the decision model by adjusting the maximum number of questions (max_depth) or the minimum number of records in each final node (min_samples_leaf)"
   ]
  },
  {
   "cell_type": "code",
   "execution_count": 13,
   "metadata": {
    "collapsed": false
   },
   "outputs": [
    {
     "data": {
      "text/plain": [
       "DecisionTreeClassifier(class_weight=None, criterion='gini', max_depth=2,\n",
       "            max_features=None, max_leaf_nodes=None, min_samples_leaf=5,\n",
       "            min_samples_split=2, min_weight_fraction_leaf=0.0,\n",
       "            presort=False, random_state=None, splitter='best')"
      ]
     },
     "execution_count": 13,
     "metadata": {},
     "output_type": "execute_result"
    }
   ],
   "source": [
    "# Instantiate model using default params\n",
    "tm = tree.DecisionTreeClassifier(max_depth=2, min_samples_leaf=5)\n",
    "\n",
    "# Train model on training set\n",
    "tm.fit(X_train, y_train)"
   ]
  },
  {
   "cell_type": "code",
   "execution_count": 14,
   "metadata": {
    "collapsed": false
   },
   "outputs": [
    {
     "name": "stdout",
     "output_type": "stream",
     "text": [
      "Accuracy: 0.949\n",
      "Accuracy: 0.946\n"
     ]
    }
   ],
   "source": [
    "# Evaluate model on train set\n",
    "print \"Accuracy: %0.3f\" % tm.score(X_train, y_train)\n",
    "\n",
    "# Evaluate model on test set\n",
    "print \"Accuracy: %0.3f\" % tm.score(X_test, y_test)"
   ]
  },
  {
   "cell_type": "markdown",
   "metadata": {},
   "source": [
    "Further, adusting the max_depth and the minimum number of records does not change the accuract very much. "
   ]
  },
  {
   "cell_type": "markdown",
   "metadata": {},
   "source": [
    "## Random Forests"
   ]
  },
  {
   "cell_type": "code",
   "execution_count": 15,
   "metadata": {
    "collapsed": false
   },
   "outputs": [
    {
     "data": {
      "text/plain": [
       "RandomForestClassifier(bootstrap=True, class_weight=None, criterion='gini',\n",
       "            max_depth=None, max_features='auto', max_leaf_nodes=None,\n",
       "            min_samples_leaf=1, min_samples_split=2,\n",
       "            min_weight_fraction_leaf=0.0, n_estimators=20, n_jobs=1,\n",
       "            oob_score=False, random_state=None, verbose=0,\n",
       "            warm_start=False)"
      ]
     },
     "execution_count": 15,
     "metadata": {},
     "output_type": "execute_result"
    }
   ],
   "source": [
    "from sklearn import ensemble\n",
    "\n",
    "# Instantiate model\n",
    "rf = ensemble.RandomForestClassifier(n_estimators=20)\n",
    "\n",
    "# Train model on training set\n",
    "rf.fit(X_train, y_train)"
   ]
  },
  {
   "cell_type": "code",
   "execution_count": 16,
   "metadata": {
    "collapsed": false
   },
   "outputs": [
    {
     "name": "stdout",
     "output_type": "stream",
     "text": [
      "Accuracy: 0.949\n",
      "Accuracy: 0.946\n"
     ]
    }
   ],
   "source": [
    "# Evaluate model on train set\n",
    "print \"Accuracy: %0.3f\" % tm.score(X_train, y_train)\n",
    "\n",
    "# Evaluate model on test set\n",
    "print \"Accuracy: %0.3f\" % tm.score(X_test, y_test)"
   ]
  },
  {
   "cell_type": "markdown",
   "metadata": {},
   "source": [
    "To improve the model, we used a series of decision trees forming a random forest. The accuracy has not improved much after this. "
   ]
  },
  {
   "cell_type": "code",
   "execution_count": 17,
   "metadata": {
    "collapsed": false
   },
   "outputs": [
    {
     "name": "stdout",
     "output_type": "stream",
     "text": [
      "Best Params:\n",
      "{'n_estimators': 1}\n",
      "Accuracy of current model: 0.946\n",
      "Accuracy using best param: 0.949\n"
     ]
    },
    {
     "data": {
      "text/plain": [
       "[<matplotlib.lines.Line2D at 0x1172e3510>]"
      ]
     },
     "execution_count": 17,
     "metadata": {},
     "output_type": "execute_result"
    },
    {
     "data": {
      "image/png": "[encoded data removed]",
      "text/plain": [
       "<matplotlib.figure.Figure at 0x11782e090>"
      ]
     },
     "metadata": {},
     "output_type": "display_data"
    }
   ],
   "source": [
    "# Set list of values to grid search over\n",
    "n = [1, 2, 3, 10, 20, 30, 100, 200, 300]\n",
    "params = {'n_estimators': n}\n",
    "\n",
    "# Perform grid search using list of values\n",
    "gs = grid_search.GridSearchCV(\n",
    "    estimator=ensemble.RandomForestClassifier(),\n",
    "    param_grid=params)\n",
    "gs.fit(X_train, y_train)\n",
    "\n",
    "# Get best value to use\n",
    "print \"Best Params:\"\n",
    "print gs.best_params_\n",
    "\n",
    "# Get improvement\n",
    "print \"Accuracy of current model: %0.3f\" % rf.score(X_test, y_test)\n",
    "print \"Accuracy using best param: %0.3f\" % gs.best_score_\n",
    "\n",
    "# Plot scores\n",
    "plt.plot(n, [s[1] for s in gs.grid_scores_])"
   ]
  },
  {
   "cell_type": "code",
   "execution_count": 18,
   "metadata": {
    "collapsed": false
   },
   "outputs": [
    {
     "name": "stdout",
     "output_type": "stream",
     "text": [
      "RandomForestClassifier(bootstrap=True, class_weight=None, criterion='gini',\n",
      "            max_depth=None, max_features='auto', max_leaf_nodes=None,\n",
      "            min_samples_leaf=1, min_samples_split=2,\n",
      "            min_weight_fraction_leaf=0.0, n_estimators=20, n_jobs=1,\n",
      "            oob_score=False, random_state=None, verbose=0,\n",
      "            warm_start=False)\n",
      "Accuracy of current model: 0.946\n",
      "RandomForestClassifier(bootstrap=True, class_weight=None, criterion='gini',\n",
      "            max_depth=None, max_features='auto', max_leaf_nodes=None,\n",
      "            min_samples_leaf=1, min_samples_split=2,\n",
      "            min_weight_fraction_leaf=0.0, n_estimators=1, n_jobs=1,\n",
      "            oob_score=False, random_state=None, verbose=0,\n",
      "            warm_start=False)\n",
      "Accuracy of updated model: 0.946\n"
     ]
    }
   ],
   "source": [
    "# Current model params\n",
    "print rf\n",
    "print \"Accuracy of current model: %0.3f\" % rf.score(X_test, y_test)\n",
    "\n",
    "# Update model params\n",
    "rf.set_params(n_estimators=gs.best_params_['n_estimators'])\n",
    "\n",
    "# Retrain model on new params\n",
    "rf.fit(X_train, y_train)\n",
    "\n",
    "# Updated model params\n",
    "print rf\n",
    "print \"Accuracy of updated model: %0.3f\" % rf.score(X_test, y_test)"
   ]
  },
  {
   "cell_type": "markdown",
   "metadata": {},
   "source": [
    "### Extract Feature Importances"
   ]
  },
  {
   "cell_type": "code",
   "execution_count": 19,
   "metadata": {
    "collapsed": false
   },
   "outputs": [
    {
     "data": {
      "text/plain": [
       "<matplotlib.axes._subplots.AxesSubplot at 0x11782e190>"
      ]
     },
     "execution_count": 19,
     "metadata": {},
     "output_type": "execute_result"
    },
    {
     "data": {
      "image/png": "[encoded data removed]",
      "text/plain": [
       "<matplotlib.figure.Figure at 0x11782ea90>"
      ]
     },
     "metadata": {},
     "output_type": "display_data"
    }
   ],
   "source": [
    "# Plot importances for all features\n",
    "features = X.columns\n",
    "feature_importances = rf.feature_importances_\n",
    "\n",
    "features_df = pd.DataFrame({'Features': features, 'Importance Score': feature_importances})\n",
    "features_df.sort_values('Importance Score', inplace=True, ascending=False)\n",
    "\n",
    "sns.barplot(y='Features', x='Importance Score', data=features_df)"
   ]
  },
  {
   "cell_type": "markdown",
   "metadata": {},
   "source": [
    "A close look at the features suggest that Tavg contributes the most in the prediction process. This suggests that we need to use more features and not rely on the two that was used to avoid having just one feature predicting everything. "
   ]
  },
  {
   "cell_type": "markdown",
   "metadata": {},
   "source": [
    "## Feature Engineering"
   ]
  },
  {
   "cell_type": "code",
   "execution_count": 20,
   "metadata": {
    "collapsed": false
   },
   "outputs": [
    {
     "name": "stdout",
     "output_type": "stream",
     "text": [
      "Accuracy: 0.591\n",
      "ROC AUC: 0.729\n"
     ]
    }
   ],
   "source": [
    "# Set features to use\n",
    "features = ['Tavg', 'Heat'] + \\\n",
    "           filter(lambda x: x.startswith('Species_'), EDA.final_numeric_data.columns)\n",
    "\n",
    "# Set target variable name\n",
    "target = 'WnvPresent'\n",
    "\n",
    "# Set X and y\n",
    "X = EDA.final_numeric_data[features]\n",
    "y = EDA.final_numeric_data[target]\n",
    "\n",
    "# Create separate training and test sets with 60/40 train/test split\n",
    "X_train, X_test, y_train, y_test = cross_validation.train_test_split(X, y, test_size=0.4, random_state=42)\n",
    "\n",
    "# Instantiate model using default params\n",
    "tm = tree.DecisionTreeClassifier(class_weight=\"balanced\")\n",
    "\n",
    "# Train model on training set\n",
    "tm.fit(X_train, y_train)\n",
    "\n",
    "# Evaluate accuracy of model on test set\n",
    "print \"Accuracy: %0.3f\" % tm.score(X_test, y_test)\n",
    "\n",
    "# Evaluate ROC AUC score of model on test set\n",
    "print 'ROC AUC: %0.3f' % metrics.roc_auc_score(y_test, tm.predict_proba(X_test)[:,1])"
   ]
  },
  {
   "cell_type": "markdown",
   "metadata": {},
   "source": [
    "In additon to Tavg and Heat, this time, we are also looking at the species of the mosquitos. "
   ]
  },
  {
   "cell_type": "code",
   "execution_count": 21,
   "metadata": {
    "collapsed": false
   },
   "outputs": [
    {
     "data": {
      "image/png": "[encoded data removed]",
      "text/plain": [
       "<matplotlib.figure.Figure at 0x116fd1850>"
      ]
     },
     "metadata": {},
     "output_type": "display_data"
    },
    {
     "name": "stdout",
     "output_type": "stream",
     "text": [
      "Confusion Matrix:\n",
      "[[4604 3343]\n",
      " [  92  366]]\n"
     ]
    }
   ],
   "source": [
    "# Get confusion matrix on test set\n",
    "y_pred = tm.predict(X_test)\n",
    "cm = metrics.confusion_matrix(y_test, y_pred)\n",
    "cm_normalized = cm.astype('float') / cm.sum(axis=1)[:, np.newaxis]\n",
    "\n",
    "ax = plt.axes()\n",
    "sns.heatmap(cm_normalized, annot=True)\n",
    "ax.set_ylabel('True')\n",
    "ax.set_xlabel('Pred')\n",
    "plt.show()\n",
    "\n",
    "print \"Confusion Matrix:\"\n",
    "print cm"
   ]
  },
  {
   "cell_type": "code",
   "execution_count": 22,
   "metadata": {
    "collapsed": false
   },
   "outputs": [
    {
     "name": "stdout",
     "output_type": "stream",
     "text": [
      "Accuracy: 0.583\n",
      "Accuracy: 0.591\n"
     ]
    }
   ],
   "source": [
    "# Evaluate model on train set\n",
    "print \"Accuracy: %0.3f\" % tm.score(X_train, y_train)\n",
    "\n",
    "# Evaluate model on test set\n",
    "print \"Accuracy: %0.3f\" % tm.score(X_test, y_test)"
   ]
  },
  {
   "cell_type": "code",
   "execution_count": 23,
   "metadata": {
    "collapsed": false
   },
   "outputs": [
    {
     "data": {
      "text/plain": [
       "DecisionTreeClassifier(class_weight=None, criterion='gini', max_depth=2,\n",
       "            max_features=None, max_leaf_nodes=None, min_samples_leaf=5,\n",
       "            min_samples_split=2, min_weight_fraction_leaf=0.0,\n",
       "            presort=False, random_state=None, splitter='best')"
      ]
     },
     "execution_count": 23,
     "metadata": {},
     "output_type": "execute_result"
    }
   ],
   "source": [
    "# Instantiate model using default params\n",
    "tm = tree.DecisionTreeClassifier(max_depth=2, min_samples_leaf=5)\n",
    "\n",
    "# Train model on training set\n",
    "tm.fit(X_train, y_train)"
   ]
  },
  {
   "cell_type": "code",
   "execution_count": 24,
   "metadata": {
    "collapsed": false
   },
   "outputs": [
    {
     "name": "stdout",
     "output_type": "stream",
     "text": [
      "Accuracy: 0.949\n",
      "Accuracy: 0.946\n"
     ]
    }
   ],
   "source": [
    "# Evaluate model on train set\n",
    "print \"Accuracy: %0.3f\" % tm.score(X_train, y_train)\n",
    "\n",
    "# Evaluate model on test set\n",
    "print \"Accuracy: %0.3f\" % tm.score(X_test, y_test)"
   ]
  },
  {
   "cell_type": "code",
   "execution_count": 25,
   "metadata": {
    "collapsed": false
   },
   "outputs": [
    {
     "data": {
      "text/plain": [
       "RandomForestClassifier(bootstrap=True, class_weight=None, criterion='gini',\n",
       "            max_depth=None, max_features='auto', max_leaf_nodes=None,\n",
       "            min_samples_leaf=1, min_samples_split=2,\n",
       "            min_weight_fraction_leaf=0.0, n_estimators=50, n_jobs=1,\n",
       "            oob_score=False, random_state=None, verbose=0,\n",
       "            warm_start=False)"
      ]
     },
     "execution_count": 25,
     "metadata": {},
     "output_type": "execute_result"
    }
   ],
   "source": [
    "# Instantiate model\n",
    "rf = ensemble.RandomForestClassifier(n_estimators=50)\n",
    "\n",
    "# Train model on training set\n",
    "rf.fit(X_train, y_train)"
   ]
  },
  {
   "cell_type": "code",
   "execution_count": 26,
   "metadata": {
    "collapsed": false
   },
   "outputs": [
    {
     "name": "stdout",
     "output_type": "stream",
     "text": [
      "Accuracy: 0.949\n",
      "Accuracy: 0.946\n"
     ]
    }
   ],
   "source": [
    "# Evaluate model on train set\n",
    "print \"Accuracy: %0.3f\" % tm.score(X_train, y_train)\n",
    "\n",
    "# Evaluate model on test set\n",
    "print \"Accuracy: %0.3f\" % tm.score(X_test, y_test)"
   ]
  },
  {
   "cell_type": "code",
   "execution_count": 27,
   "metadata": {
    "collapsed": false
   },
   "outputs": [
    {
     "name": "stdout",
     "output_type": "stream",
     "text": [
      "Best Params:\n",
      "{'n_estimators': 2}\n",
      "Accuracy of current model: 0.946\n",
      "Accuracy using best param: 0.949\n",
      "RandomForestClassifier(bootstrap=True, class_weight=None, criterion='gini',\n",
      "            max_depth=None, max_features='auto', max_leaf_nodes=None,\n",
      "            min_samples_leaf=1, min_samples_split=2,\n",
      "            min_weight_fraction_leaf=0.0, n_estimators=50, n_jobs=1,\n",
      "            oob_score=False, random_state=None, verbose=0,\n",
      "            warm_start=False)\n",
      "Accuracy of current model: 0.946\n",
      "RandomForestClassifier(bootstrap=True, class_weight=None, criterion='gini',\n",
      "            max_depth=None, max_features='auto', max_leaf_nodes=None,\n",
      "            min_samples_leaf=1, min_samples_split=2,\n",
      "            min_weight_fraction_leaf=0.0, n_estimators=2, n_jobs=1,\n",
      "            oob_score=False, random_state=None, verbose=0,\n",
      "            warm_start=False)\n",
      "Accuracy of updated model: 0.946\n"
     ]
    },
    {
     "data": {
      "image/png": "[encoded data removed]",
      "text/plain": [
       "<matplotlib.figure.Figure at 0x1176347d0>"
      ]
     },
     "metadata": {},
     "output_type": "display_data"
    }
   ],
   "source": [
    "# Set list of values to grid search over\n",
    "n = [1, 2, 3, 10, 20, 30, 100, 200, 300]\n",
    "params = {'n_estimators': n}\n",
    "\n",
    "# Perform grid search using list of values\n",
    "gs = grid_search.GridSearchCV(\n",
    "    estimator=ensemble.RandomForestClassifier(),\n",
    "    param_grid=params)\n",
    "gs.fit(X_train, y_train)\n",
    "\n",
    "# Get best value to use\n",
    "print \"Best Params:\"\n",
    "print gs.best_params_\n",
    "\n",
    "# Get improvement\n",
    "print \"Accuracy of current model: %0.3f\" % rf.score(X_test, y_test)\n",
    "print \"Accuracy using best param: %0.3f\" % gs.best_score_\n",
    "\n",
    "# Plot scores\n",
    "plt.plot(n, [s[1] for s in gs.grid_scores_])\n",
    "\n",
    "\n",
    "\n",
    "# Current model params\n",
    "print rf\n",
    "print \"Accuracy of current model: %0.3f\" % rf.score(X_test, y_test)\n",
    "\n",
    "# Update model params\n",
    "rf.set_params(n_estimators=gs.best_params_['n_estimators'])\n",
    "\n",
    "# Retrain model on new params\n",
    "rf.fit(X_train, y_train)\n",
    "\n",
    "# Updated model params\n",
    "print rf\n",
    "print \"Accuracy of updated model: %0.3f\" % rf.score(X_test, y_test)"
   ]
  },
  {
   "cell_type": "code",
   "execution_count": 28,
   "metadata": {
    "collapsed": false
   },
   "outputs": [
    {
     "data": {
      "text/plain": [
       "<matplotlib.axes._subplots.AxesSubplot at 0x11a9458d0>"
      ]
     },
     "execution_count": 28,
     "metadata": {},
     "output_type": "execute_result"
    },
    {
     "data": {
      "image/png": "[encoded data removed]",
      "text/plain": [
       "<matplotlib.figure.Figure at 0x117634890>"
      ]
     },
     "metadata": {},
     "output_type": "display_data"
    }
   ],
   "source": [
    "# Plot importances for all features\n",
    "features = X.columns\n",
    "feature_importances = rf.feature_importances_\n",
    "\n",
    "features_df = pd.DataFrame({'Features': features, 'Importance Score': feature_importances})\n",
    "features_df.sort_values('Importance Score', inplace=True, ascending=False)\n",
    "\n",
    "sns.barplot(y='Features', x='Importance Score', data=features_df)"
   ]
  },
  {
   "cell_type": "code",
   "execution_count": 34,
   "metadata": {
    "collapsed": false
   },
   "outputs": [
    {
     "name": "stdout",
     "output_type": "stream",
     "text": [
      "['Tavg', 'Heat', 'Species_CULEX ERRATICUS', 'Species_CULEX PIPIENS', 'Species_CULEX PIPIENS/RESTUANS', 'Species_CULEX RESTUANS', 'Species_CULEX SALINARIUS', 'Species_CULEX TARSALIS', 'Species_CULEX TERRITANS']\n"
     ]
    }
   ],
   "source": [
    "print features"
   ]
  },
  {
   "cell_type": "markdown",
   "metadata": {},
   "source": [
    "The accuracy is about the same and looking at the feature importance, we can see that Tavg did come down suggesting that other features play a role in the prediction process. "
   ]
  },
  {
   "cell_type": "markdown",
   "metadata": {},
   "source": [
    "## Use all Data\n"
   ]
  },
  {
   "cell_type": "code",
   "execution_count": 29,
   "metadata": {
    "collapsed": false
   },
   "outputs": [
    {
     "data": {
      "text/plain": [
       "DecisionTreeClassifier(class_weight=None, criterion='gini', max_depth=None,\n",
       "            max_features=None, max_leaf_nodes=None, min_samples_leaf=1,\n",
       "            min_samples_split=2, min_weight_fraction_leaf=0.0,\n",
       "            presort=False, random_state=None, splitter='best')"
      ]
     },
     "execution_count": 29,
     "metadata": {},
     "output_type": "execute_result"
    }
   ],
   "source": [
    "# Set features to use\n",
    "features = ['Tavg', 'Heat'] + \\\n",
    "           filter(lambda x: x.startswith('Species_'), EDA.final_numeric_data.columns)\n",
    "\n",
    "# Set target variable name\n",
    "target = 'WnvPresent'\n",
    "\n",
    "# Set X and y\n",
    "X_train = EDA.final_numeric_data[features]\n",
    "y_train = EDA.final_numeric_data[target]\n",
    "\n",
    "# Create separate training and test sets with 60/40 train/test split\n",
    "#X_train, X_test, y_train, y_test = cross_validation.train_test_split(X, y, test_size=0.4, random_state=42)\n",
    "\n",
    "# Instantiate model using default params\n",
    "tm = tree.DecisionTreeClassifier()\n",
    "\n",
    "# Train model on training set\n",
    "tm.fit(X_train, y_train)\n",
    "\n",
    "# Evaluate accuracy of model on test set\n",
    "#print \"Accuracy: %0.3f\" % tm.score(X, y_test)\n",
    "\n",
    "# Evaluate ROC AUC score of model on test set\n",
    "#print 'ROC AUC: %0.3f' % metrics.roc_auc_score(y_test, tm.predict_proba(X_test)[:,1])"
   ]
  },
  {
   "cell_type": "code",
   "execution_count": 30,
   "metadata": {
    "collapsed": false
   },
   "outputs": [
    {
     "name": "stdout",
     "output_type": "stream",
     "text": [
      "importing notebook from TestData.ipynb\n"
     ]
    }
   ],
   "source": [
    "import TestData"
   ]
  },
  {
   "cell_type": "code",
   "execution_count": 31,
   "metadata": {
    "collapsed": false
   },
   "outputs": [],
   "source": [
    "# Load data\n",
    "df_test = TestData.final_numeric_test_data\n",
    "\n",
    "# Create DF for submission\n",
    "#df_sub = df_test[['Id']]\n",
    "\n",
    "\n",
    "\n",
    "# Check data\n",
    "df_test.head()\n",
    "\n",
    "df_sub = df_test[['Id']]\n",
    "\n",
    "# Predict using tuned model\n",
    "#df_sub['Survived'] = lm.predict(df_test)\n",
    "\n",
    "# Write submission file\n",
    "#df_sub.to_csv(\"../assets/datasets/titanic/mysubmission.csv\", index=False)\n",
    "\n",
    "#print \"Check ../assets/datasets/titanic/ for submission file\""
   ]
  },
  {
   "cell_type": "code",
   "execution_count": 32,
   "metadata": {
    "collapsed": false
   },
   "outputs": [],
   "source": [
    "# Predict using tuned model\n",
    "# Set X and y\n",
    "# Set features to use\n",
    "features = ['Tavg', 'Heat'] + \\\n",
    "           filter(lambda x: x.startswith('Species_'), EDA.final_numeric_data.columns)\n",
    "\n",
    "# Set target variable name\n",
    "target = 'WnvPresent'\n",
    "\n",
    "# Set X and y\n",
    "X_test = TestData.final_numeric_test_data[features]\n",
    "\n",
    "df_test['WnvPresent'] = tm.predict(X_test)"
   ]
  },
  {
   "cell_type": "code",
   "execution_count": 33,
   "metadata": {
    "collapsed": false
   },
   "outputs": [
    {
     "data": {
      "text/html": [
       "<div>\n",
       "<table border=\"1\" class=\"dataframe\">\n",
       "  <thead>\n",
       "    <tr style=\"text-align: right;\">\n",
       "      <th></th>\n",
       "      <th>Id</th>\n",
       "      <th>Block</th>\n",
       "      <th>Latitude</th>\n",
       "      <th>Longitude</th>\n",
       "      <th>AddressAccuracy</th>\n",
       "      <th>Station</th>\n",
       "      <th>Tmax</th>\n",
       "      <th>Tmin</th>\n",
       "      <th>Tavg</th>\n",
       "      <th>Depart</th>\n",
       "      <th>...</th>\n",
       "      <th>Trap_T232</th>\n",
       "      <th>Trap_T233</th>\n",
       "      <th>Trap_T234</th>\n",
       "      <th>Trap_T235</th>\n",
       "      <th>Trap_T236</th>\n",
       "      <th>Trap_T237</th>\n",
       "      <th>Trap_T238</th>\n",
       "      <th>Trap_T900</th>\n",
       "      <th>Trap_T903</th>\n",
       "      <th>WnvPresent</th>\n",
       "    </tr>\n",
       "  </thead>\n",
       "  <tbody>\n",
       "    <tr>\n",
       "      <th>0</th>\n",
       "      <td>1</td>\n",
       "      <td>41</td>\n",
       "      <td>41.95469</td>\n",
       "      <td>-87.800991</td>\n",
       "      <td>9</td>\n",
       "      <td>1</td>\n",
       "      <td>86</td>\n",
       "      <td>61</td>\n",
       "      <td>74</td>\n",
       "      <td>7.0</td>\n",
       "      <td>...</td>\n",
       "      <td>0.0</td>\n",
       "      <td>0.0</td>\n",
       "      <td>0.0</td>\n",
       "      <td>0.0</td>\n",
       "      <td>0.0</td>\n",
       "      <td>0.0</td>\n",
       "      <td>0.0</td>\n",
       "      <td>0.0</td>\n",
       "      <td>0.0</td>\n",
       "      <td>0</td>\n",
       "    </tr>\n",
       "    <tr>\n",
       "      <th>1</th>\n",
       "      <td>1</td>\n",
       "      <td>41</td>\n",
       "      <td>41.95469</td>\n",
       "      <td>-87.800991</td>\n",
       "      <td>9</td>\n",
       "      <td>2</td>\n",
       "      <td>86</td>\n",
       "      <td>66</td>\n",
       "      <td>76</td>\n",
       "      <td>0.0</td>\n",
       "      <td>...</td>\n",
       "      <td>0.0</td>\n",
       "      <td>0.0</td>\n",
       "      <td>0.0</td>\n",
       "      <td>0.0</td>\n",
       "      <td>0.0</td>\n",
       "      <td>0.0</td>\n",
       "      <td>0.0</td>\n",
       "      <td>0.0</td>\n",
       "      <td>0.0</td>\n",
       "      <td>0</td>\n",
       "    </tr>\n",
       "    <tr>\n",
       "      <th>2</th>\n",
       "      <td>2</td>\n",
       "      <td>41</td>\n",
       "      <td>41.95469</td>\n",
       "      <td>-87.800991</td>\n",
       "      <td>9</td>\n",
       "      <td>1</td>\n",
       "      <td>86</td>\n",
       "      <td>61</td>\n",
       "      <td>74</td>\n",
       "      <td>7.0</td>\n",
       "      <td>...</td>\n",
       "      <td>0.0</td>\n",
       "      <td>0.0</td>\n",
       "      <td>0.0</td>\n",
       "      <td>0.0</td>\n",
       "      <td>0.0</td>\n",
       "      <td>0.0</td>\n",
       "      <td>0.0</td>\n",
       "      <td>0.0</td>\n",
       "      <td>0.0</td>\n",
       "      <td>0</td>\n",
       "    </tr>\n",
       "    <tr>\n",
       "      <th>3</th>\n",
       "      <td>2</td>\n",
       "      <td>41</td>\n",
       "      <td>41.95469</td>\n",
       "      <td>-87.800991</td>\n",
       "      <td>9</td>\n",
       "      <td>2</td>\n",
       "      <td>86</td>\n",
       "      <td>66</td>\n",
       "      <td>76</td>\n",
       "      <td>0.0</td>\n",
       "      <td>...</td>\n",
       "      <td>0.0</td>\n",
       "      <td>0.0</td>\n",
       "      <td>0.0</td>\n",
       "      <td>0.0</td>\n",
       "      <td>0.0</td>\n",
       "      <td>0.0</td>\n",
       "      <td>0.0</td>\n",
       "      <td>0.0</td>\n",
       "      <td>0.0</td>\n",
       "      <td>0</td>\n",
       "    </tr>\n",
       "    <tr>\n",
       "      <th>4</th>\n",
       "      <td>3</td>\n",
       "      <td>41</td>\n",
       "      <td>41.95469</td>\n",
       "      <td>-87.800991</td>\n",
       "      <td>9</td>\n",
       "      <td>1</td>\n",
       "      <td>86</td>\n",
       "      <td>61</td>\n",
       "      <td>74</td>\n",
       "      <td>7.0</td>\n",
       "      <td>...</td>\n",
       "      <td>0.0</td>\n",
       "      <td>0.0</td>\n",
       "      <td>0.0</td>\n",
       "      <td>0.0</td>\n",
       "      <td>0.0</td>\n",
       "      <td>0.0</td>\n",
       "      <td>0.0</td>\n",
       "      <td>0.0</td>\n",
       "      <td>0.0</td>\n",
       "      <td>0</td>\n",
       "    </tr>\n",
       "  </tbody>\n",
       "</table>\n",
       "<p>5 rows × 625 columns</p>\n",
       "</div>"
      ],
      "text/plain": [
       "   Id  Block  Latitude  Longitude  AddressAccuracy  Station  Tmax  Tmin  Tavg  \\\n",
       "0   1     41  41.95469 -87.800991                9        1    86    61    74   \n",
       "1   1     41  41.95469 -87.800991                9        2    86    66    76   \n",
       "2   2     41  41.95469 -87.800991                9        1    86    61    74   \n",
       "3   2     41  41.95469 -87.800991                9        2    86    66    76   \n",
       "4   3     41  41.95469 -87.800991                9        1    86    61    74   \n",
       "\n",
       "   Depart     ...      Trap_T232  Trap_T233  Trap_T234  Trap_T235  Trap_T236  \\\n",
       "0     7.0     ...            0.0        0.0        0.0        0.0        0.0   \n",
       "1     0.0     ...            0.0        0.0        0.0        0.0        0.0   \n",
       "2     7.0     ...            0.0        0.0        0.0        0.0        0.0   \n",
       "3     0.0     ...            0.0        0.0        0.0        0.0        0.0   \n",
       "4     7.0     ...            0.0        0.0        0.0        0.0        0.0   \n",
       "\n",
       "   Trap_T237  Trap_T238  Trap_T900  Trap_T903  WnvPresent  \n",
       "0        0.0        0.0        0.0        0.0           0  \n",
       "1        0.0        0.0        0.0        0.0           0  \n",
       "2        0.0        0.0        0.0        0.0           0  \n",
       "3        0.0        0.0        0.0        0.0           0  \n",
       "4        0.0        0.0        0.0        0.0           0  \n",
       "\n",
       "[5 rows x 625 columns]"
      ]
     },
     "execution_count": 33,
     "metadata": {},
     "output_type": "execute_result"
    }
   ],
   "source": [
    "df_test.head()"
   ]
  },
  {
   "cell_type": "code",
   "execution_count": null,
   "metadata": {
    "collapsed": true
   },
   "outputs": [],
   "source": []
  }
 ],
 "metadata": {
  "kernelspec": {
   "display_name": "Python 2",
   "language": "python",
   "name": "python2"
  },
  "language_info": {
   "codemirror_mode": {
    "name": "ipython",
    "version": 2
   },
   "file_extension": ".py",
   "mimetype": "text/x-python",
   "name": "python",
   "nbconvert_exporter": "python",
   "pygments_lexer": "ipython2",
   "version": "2.7.11"
  }
 },
 "nbformat": 4,
 "nbformat_minor": 0
}
